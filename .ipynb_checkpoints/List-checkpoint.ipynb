{
 "cells": [
  {
   "cell_type": "markdown",
   "metadata": {},
   "source": [
    "# Python Data Types\n",
    "\n",
    "        1. Lists\n",
    "        2. Tuples\n",
    "        3. Sets\n",
    "        4. Dictionary\n",
    "        5. Strings\n",
    "        6. Numeric\n",
    "\n",
    " ### what is list\n",
    " * List is a collection which is ordered and changeable. Allows duplicate members. In Python lists are written with square brackets.\n",
    " \n",
    "    - You can consider the Lists as Arrays in C, but in List you can store elements of different types, but in Array all the elements should of the same type.\n",
    "    - List is the most versatile datatype available in Python which can be written as a list of comma-separated values (items) between square brackets."
   ]
  },
  {
   "cell_type": "code",
   "execution_count": 13,
   "metadata": {},
   "outputs": [
    {
     "name": "stdout",
     "output_type": "stream",
     "text": [
      "['Raja', 'Sai', 'Rajesh', 'Sai Sanker'] [1, 'Hello', 3.4]\n"
     ]
    }
   ],
   "source": [
    "list1 = [\"Raja\", \"Sai\", \"Rajesh\", \"Sai Sanker\" ]\n",
    "# empty list\n",
    "my_list = []\n",
    "# list of integers\n",
    "my_list = [1, 2, 3]\n",
    "# list with mixed datatypes\n",
    "my_list = [1, \"Hello\", 3.4]\n",
    "print(list1, my_list)"
   ]
  },
  {
   "cell_type": "markdown",
   "metadata": {},
   "source": [
    "## Access Items\n",
    "\n",
    "* You access the list items by referring to the index number."
   ]
  },
  {
   "cell_type": "code",
   "execution_count": 28,
   "metadata": {},
   "outputs": [
    {
     "name": "stdout",
     "output_type": "stream",
     "text": [
      "Sai\n",
      "['Sai Sanker']\n",
      "['Sai Sanker', 'Rajesh', 'Sai', 'Raja']\n"
     ]
    }
   ],
   "source": [
    "print(list[1])\n",
    "print(list[-1:])\n",
    "print(list[::-1])"
   ]
  },
  {
   "cell_type": "markdown",
   "metadata": {},
   "source": [
    "### List Index\n",
    "\n"
   ]
  },
  {
   "cell_type": "code",
   "execution_count": 29,
   "metadata": {},
   "outputs": [
    {
     "name": "stdout",
     "output_type": "stream",
     "text": [
      "p\n",
      "o\n",
      "e\n",
      "a\n",
      "5\n"
     ]
    }
   ],
   "source": [
    "my_list = ['p','r','o','b','e']\n",
    "# Output: p\n",
    "print(my_list[0])\n",
    "# Output: o\n",
    "print(my_list[2])\n",
    "# Output: e\n",
    "print(my_list[4])\n",
    "# Error! Only integer can be used for indexing\n",
    "# my_list[4.0]\n",
    "# Nested List\n",
    "n_list = [\"Happy\", [2,0,1,5]]\n",
    "# Nested indexing\n",
    "# Output: a\n",
    "print(n_list[0][1])    \n",
    "# Output: 5\n",
    "print(n_list[1][3])"
   ]
  },
  {
   "cell_type": "markdown",
   "metadata": {},
   "source": [
    "### Negative indexing\n",
    "- Python allows negative indexing for its sequences. The index of -1 refers to the last item, -2 to the second last item and so on."
   ]
  },
  {
   "cell_type": "code",
   "execution_count": 30,
   "metadata": {},
   "outputs": [
    {
     "name": "stdout",
     "output_type": "stream",
     "text": [
      "e\n",
      "p\n"
     ]
    }
   ],
   "source": [
    "my_list = ['p','r','o','b','e']\n",
    "# Output: e\n",
    "print(my_list[-1])\n",
    "# Output: p\n",
    "print(my_list[-5])\n"
   ]
  },
  {
   "cell_type": "markdown",
   "metadata": {},
   "source": [
    "### How to slice lists in Python?\n",
    "We can access a range of items in a list by using the slicing operator (colon)."
   ]
  },
  {
   "cell_type": "code",
   "execution_count": 31,
   "metadata": {},
   "outputs": [
    {
     "name": "stdout",
     "output_type": "stream",
     "text": [
      "['o', 'g', 'r']\n",
      "['p', 'r', 'o', 'g']\n",
      "['a', 'm', 'i', 'z']\n",
      "['p', 'r', 'o', 'g', 'r', 'a', 'm', 'i', 'z']\n"
     ]
    }
   ],
   "source": [
    "my_list = ['p','r','o','g','r','a','m','i','z']\n",
    "# elements 3rd to 5th\n",
    "print(my_list[2:5])\n",
    "# elements beginning to 4th\n",
    "print(my_list[:-5])\n",
    "# elements 6th to end\n",
    "print(my_list[5:])\n",
    "# elements beginning to end\n",
    "print(my_list[:])"
   ]
  },
  {
   "cell_type": "code",
   "execution_count": null,
   "metadata": {},
   "outputs": [],
   "source": []
  },
  {
   "cell_type": "markdown",
   "metadata": {},
   "source": [
    "## Change Item Value (Updating Lists)\n",
    "\n",
    "- To change the value of a specific item, refer to the index number.\n",
    "\n",
    "    - We can use indexing to change items within the list, by setting an index number equal to a different value. This gives us greater control over lists as we are able to modify and update the items that they contain.\n",
    "    - You can update single or multiple elements of lists by giving the slice on the left-hand side of the assignment operator, and you can add to elements in a list with the append() method."
   ]
  },
  {
   "cell_type": "code",
   "execution_count": 18,
   "metadata": {},
   "outputs": [
    {
     "name": "stdout",
     "output_type": "stream",
     "text": [
      "['G.K.Raja', 'Sai', 'Rajesh', 'Sai Sanker']\n"
     ]
    }
   ],
   "source": [
    "list1[0] = \"G.K.Raja\";\n",
    "print(list1)"
   ]
  },
  {
   "cell_type": "markdown",
   "metadata": {},
   "source": [
    "## Loop Through a List\n",
    "\n",
    "- You can loop through the list items by using a for loop.\n"
   ]
  },
  {
   "cell_type": "code",
   "execution_count": 19,
   "metadata": {},
   "outputs": [
    {
     "name": "stdout",
     "output_type": "stream",
     "text": [
      "Raja\n",
      "Sai\n",
      "Rajesh\n",
      "Sai Sanker\n"
     ]
    }
   ],
   "source": [
    "for i in list:\n",
    "    print(i)"
   ]
  },
  {
   "cell_type": "code",
   "execution_count": 23,
   "metadata": {},
   "outputs": [
    {
     "name": "stdout",
     "output_type": "stream",
     "text": [
      "['G.K.Raja', 'Sai', 'Rajesh', 'Sai Sanker', 'R', 'a', 'j', 'a', 'R', 'a', 'j', 'a', 'R', 'a', 'j', 'a', 'Raja', 'Raja', 'Raja', 'Raja']\n",
      "['G.K.Raja', 'Sai', 'Rajesh', 'Sai Sanker', 'R', 'a', 'j', 'a', 'R', 'a', 'j', 'a', 'R', 'a', 'j', 'a', 'Raja', 'Raja', 'Raja', 'Raja', 'Raja']\n",
      "['G.K.Raja', 'Sai', 'Rajesh', 'Sai Sanker', 'R', 'a', 'j', 'a', 'R', 'a', 'j', 'a', 'R', 'a', 'j', 'a', 'Raja', 'Raja', 'Raja', 'Raja', 'Raja', 'Raja']\n"
     ]
    }
   ],
   "source": [
    "for i in range(1,4):\n",
    "    list1 += [\"Raja\"]\n",
    "    print(list1)"
   ]
  },
  {
   "cell_type": "code",
   "execution_count": 26,
   "metadata": {},
   "outputs": [
    {
     "name": "stdout",
     "output_type": "stream",
     "text": [
      "['G.K.Raja', 'Sai', 'Rajesh', 'Sai Sanker', 'R', 'a', 'j', 'a', 'R', 'a', 'j', 'a', 'R', 'a', 'j', 'a', 'Raja', 'Raja', 'Raja', 'Raja', 'Raja', 'Raja', 'Raj`s']\n"
     ]
    }
   ],
   "source": [
    "list1 = list1+['Raj`s']\n",
    "print(list1)"
   ]
  },
  {
   "cell_type": "code",
   "execution_count": 27,
   "metadata": {},
   "outputs": [
    {
     "name": "stdout",
     "output_type": "stream",
     "text": [
      "['G.K.Raja', 'Sai', 'Rajesh', 'Sai Sanker', 'R', 'a', 'j', 'a', 'R', 'a', 'j', 'a', 'R', 'a', 'j', 'a', 'Raja', 'Raja', 'Raja', 'Raja', 'Raja', 'Raja', 'Raj`s', 'G.K.Raja', 'Sai', 'Rajesh', 'Sai Sanker', 'R', 'a', 'j', 'a', 'R', 'a', 'j', 'a', 'R', 'a', 'j', 'a', 'Raja', 'Raja', 'Raja', 'Raja', 'Raja', 'Raja', 'Raj`s', 'G.K.Raja', 'Sai', 'Rajesh', 'Sai Sanker', 'R', 'a', 'j', 'a', 'R', 'a', 'j', 'a', 'R', 'a', 'j', 'a', 'Raja', 'Raja', 'Raja', 'Raja', 'Raja', 'Raja', 'Raj`s']\n"
     ]
    }
   ],
   "source": [
    "print(list1*3)"
   ]
  },
  {
   "cell_type": "markdown",
   "metadata": {},
   "source": [
    "### Check if Item Exists\n",
    "- To determine if a specified item is present in a list use the in keyword"
   ]
  },
  {
   "cell_type": "code",
   "execution_count": 32,
   "metadata": {},
   "outputs": [
    {
     "name": "stdout",
     "output_type": "stream",
     "text": [
      "Yes\n"
     ]
    }
   ],
   "source": [
    "if \"Raja\" in list1:\n",
    "    print(\"Yes\")"
   ]
  },
  {
   "cell_type": "markdown",
   "metadata": {},
   "source": [
    "### List Length\n",
    "- To determine how many items a list has, use the len() method\n"
   ]
  },
  {
   "cell_type": "code",
   "execution_count": 34,
   "metadata": {},
   "outputs": [
    {
     "name": "stdout",
     "output_type": "stream",
     "text": [
      "23\n",
      "['G.K.Raja', 'Sai', 'Rajesh', 'Sai Sanker', 'R', 'a', 'j', 'a', 'R', 'a', 'j', 'a', 'R', 'a', 'j', 'a', 'Raja', 'Raja', 'Raja', 'Raja', 'Raja', 'Raja', 'Raj`s']\n"
     ]
    }
   ],
   "source": [
    "print(len(list1))\n",
    "print(list1)"
   ]
  },
  {
   "cell_type": "markdown",
   "metadata": {},
   "source": [
    "### Add Items\n",
    "- To add an item to the end of the list, use the append() method.\n"
   ]
  },
  {
   "cell_type": "code",
   "execution_count": 3,
   "metadata": {},
   "outputs": [
    {
     "name": "stdout",
     "output_type": "stream",
     "text": [
      "['Raja', 'Raj', 'Raj`s', 'RajaSrav']\n"
     ]
    }
   ],
   "source": [
    "myList = [\"Raja\", \"Raj\", \"Raj`s\"]\n",
    "myList.append(\"RajaSrav\")\n",
    "print(myList)\n",
    "    "
   ]
  },
  {
   "cell_type": "code",
   "execution_count": 6,
   "metadata": {},
   "outputs": [
    {
     "name": "stdout",
     "output_type": "stream",
     "text": [
      "['Raja', 'Rajs', 'Raj', 'Raj`s', 'RajaSrav']\n"
     ]
    }
   ],
   "source": [
    "# To add an item at the specified index, use the insert() method:\n",
    "myList.insert(1, \"Rajs\")\n",
    "print(myList)"
   ]
  },
  {
   "cell_type": "markdown",
   "metadata": {},
   "source": [
    "### Remove Item\n",
    "\n",
    "- There are several methods to remove items from a list:\n",
    "\n"
   ]
  },
  {
   "cell_type": "code",
   "execution_count": 12,
   "metadata": {},
   "outputs": [
    {
     "name": "stdout",
     "output_type": "stream",
     "text": [
      "['Rajs', 'Raj`s', 'RajaSrav']\n"
     ]
    }
   ],
   "source": [
    "myList.remove(\"Raj\")\n",
    "print(myList)"
   ]
  },
  {
   "cell_type": "code",
   "execution_count": 14,
   "metadata": {},
   "outputs": [
    {
     "name": "stdout",
     "output_type": "stream",
     "text": [
      "['Rajs']\n"
     ]
    }
   ],
   "source": [
    "myList.pop()\n",
    "print(myList)"
   ]
  },
  {
   "cell_type": "code",
   "execution_count": 15,
   "metadata": {},
   "outputs": [
    {
     "name": "stdout",
     "output_type": "stream",
     "text": [
      "['p', 'r', 'b', 'l', 'e', 'm']\n",
      "['p', 'm']\n"
     ]
    },
    {
     "ename": "NameError",
     "evalue": "name 'my_list' is not defined",
     "output_type": "error",
     "traceback": [
      "\u001b[1;31m---------------------------------------------------------------------------\u001b[0m",
      "\u001b[1;31mNameError\u001b[0m                                 Traceback (most recent call last)",
      "\u001b[1;32m<ipython-input-15-75a696f1c3fb>\u001b[0m in \u001b[0;36m<module>\u001b[1;34m\u001b[0m\n\u001b[0;32m     11\u001b[0m \u001b[1;32mdel\u001b[0m \u001b[0mmy_list\u001b[0m\u001b[1;33m\u001b[0m\u001b[1;33m\u001b[0m\u001b[0m\n\u001b[0;32m     12\u001b[0m \u001b[1;31m# Error: List not defined\u001b[0m\u001b[1;33m\u001b[0m\u001b[1;33m\u001b[0m\u001b[1;33m\u001b[0m\u001b[0m\n\u001b[1;32m---> 13\u001b[1;33m \u001b[0mprint\u001b[0m\u001b[1;33m(\u001b[0m\u001b[0mmy_list\u001b[0m\u001b[1;33m)\u001b[0m\u001b[1;33m\u001b[0m\u001b[1;33m\u001b[0m\u001b[0m\n\u001b[0m",
      "\u001b[1;31mNameError\u001b[0m: name 'my_list' is not defined"
     ]
    }
   ],
   "source": [
    "my_list = ['p','r','o','b','l','e','m']\n",
    "# delete one item\n",
    "del my_list[2]\n",
    "# Output: ['p', 'r', 'b', 'l', 'e', 'm']     \n",
    "print(my_list)\n",
    "# delete multiple items\n",
    "del my_list[1:5]  \n",
    "# Output: ['p', 'm']\n",
    "print(my_list)\n",
    "# delete entire list\n",
    "del my_list       \n",
    "# Error: List not defined\n",
    "print(my_list)"
   ]
  },
  {
   "cell_type": "code",
   "execution_count": 16,
   "metadata": {},
   "outputs": [
    {
     "name": "stdout",
     "output_type": "stream",
     "text": [
      "['r', 'o', 'b', 'l', 'e', 'm']\n",
      "o\n",
      "['r', 'b', 'l', 'e', 'm']\n",
      "m\n",
      "['r', 'b', 'l', 'e']\n",
      "[]\n"
     ]
    }
   ],
   "source": [
    "my_list = ['p','r','o','b','l','e','m']\n",
    "my_list.remove('p')\n",
    "# Output: ['r', 'o', 'b', 'l', 'e', 'm']\n",
    "print(my_list)\n",
    "# Output: 'o'\n",
    "print(my_list.pop(1))\n",
    "# Output: ['r', 'b', 'l', 'e', 'm']\n",
    "print(my_list)\n",
    "# Output: 'm'\n",
    "print(my_list.pop())\n",
    "# Output: ['r', 'b', 'l', 'e']\n",
    "print(my_list)\n",
    "my_list.clear()\n",
    "# Output: []\n",
    "print(my_list)"
   ]
  },
  {
   "cell_type": "code",
   "execution_count": 17,
   "metadata": {},
   "outputs": [
    {
     "name": "stdout",
     "output_type": "stream",
     "text": [
      "['p', 'r', 'b', 'l', 'e', 'm']\n",
      "['p', 'r', 'm']\n"
     ]
    }
   ],
   "source": [
    "my_list = ['p','r','o','b','l','e','m']\n",
    "my_list[2:3] = []\n",
    "print(my_list)\n",
    "my_list[2:5] = []\n",
    "print(my_list)"
   ]
  },
  {
   "cell_type": "code",
   "execution_count": 24,
   "metadata": {},
   "outputs": [
    {
     "name": "stdout",
     "output_type": "stream",
     "text": [
      "1\n",
      "2\n",
      "[0, 1, 3, 4, 6, 8, 8]\n",
      "[8, 8, 6, 4, 3, 1, 0]\n",
      "[8, 8, 6, 4, 3, 1, 0]\n",
      "[8, 8, 6, 4, 3, 1, 0]\n",
      "[0, 1, 3, 4, 6, 8, 8]\n"
     ]
    }
   ],
   "source": [
    "my_list = [3, 8, 1, 6, 0, 8, 4]\n",
    "# Output: 1\n",
    "print(my_list.index(8))\n",
    "# Output: 2\n",
    "print(my_list.count(8))\n",
    "my_list.sort()\n",
    "# Output: [0, 1, 3, 4, 6, 8, 8]\n",
    "print(my_list)\n",
    "my_list.reverse()\n",
    "# Output: [8, 8, 6, 4, 3, 1, 0]\n",
    "print(my_list)\n",
    "my_list.copy()\n",
    "print(my_list)\n",
    "print(list(my_list))\n",
    "my_list.sort()\n",
    "print(my_list)"
   ]
  },
  {
   "cell_type": "markdown",
   "metadata": {},
   "source": [
    "* **append()** - Add an element to the end of the list\n",
    "* **extend()** - Add all elements of a list to the another list\n",
    "* **insert()** - Insert an item at the defined index\n",
    "* **remove()** - Removes an item from the list\n",
    "* **pop()** - Removes and returns an element at the given index\n",
    "* **clear()** - Removes all items from the list\n",
    "* **index()** - Returns the index of the first matched item\n",
    "* **count()** - Returns the count of number of items passed as an argument\n",
    "* **sort()** - Sort items in a list in ascending order\n",
    "* **reverse()** - Reverse the order of items in the list\n",
    "* **copy()** - Returns a shallow copy of the lis\n",
    "* ***list()** - Same copy"
   ]
  },
  {
   "cell_type": "code",
   "execution_count": 23,
   "metadata": {},
   "outputs": [
    {
     "data": {
      "text/plain": [
       "['__add__',\n",
       " '__class__',\n",
       " '__contains__',\n",
       " '__delattr__',\n",
       " '__delitem__',\n",
       " '__dir__',\n",
       " '__doc__',\n",
       " '__eq__',\n",
       " '__format__',\n",
       " '__ge__',\n",
       " '__getattribute__',\n",
       " '__getitem__',\n",
       " '__gt__',\n",
       " '__hash__',\n",
       " '__iadd__',\n",
       " '__imul__',\n",
       " '__init__',\n",
       " '__init_subclass__',\n",
       " '__iter__',\n",
       " '__le__',\n",
       " '__len__',\n",
       " '__lt__',\n",
       " '__mul__',\n",
       " '__ne__',\n",
       " '__new__',\n",
       " '__reduce__',\n",
       " '__reduce_ex__',\n",
       " '__repr__',\n",
       " '__reversed__',\n",
       " '__rmul__',\n",
       " '__setattr__',\n",
       " '__setitem__',\n",
       " '__sizeof__',\n",
       " '__str__',\n",
       " '__subclasshook__',\n",
       " 'append',\n",
       " 'clear',\n",
       " 'copy',\n",
       " 'count',\n",
       " 'extend',\n",
       " 'index',\n",
       " 'insert',\n",
       " 'pop',\n",
       " 'remove',\n",
       " 'reverse',\n",
       " 'sort']"
      ]
     },
     "execution_count": 23,
     "metadata": {},
     "output_type": "execute_result"
    }
   ],
   "source": [
    "s = []\n",
    "dir(s)"
   ]
  },
  {
   "cell_type": "code",
   "execution_count": null,
   "metadata": {},
   "outputs": [],
   "source": []
  }
 ],
 "metadata": {
  "kernelspec": {
   "display_name": "Python 3",
   "language": "python",
   "name": "python3"
  },
  "language_info": {
   "codemirror_mode": {
    "name": "ipython",
    "version": 3
   },
   "file_extension": ".py",
   "mimetype": "text/x-python",
   "name": "python",
   "nbconvert_exporter": "python",
   "pygments_lexer": "ipython3",
   "version": "3.7.3"
  }
 },
 "nbformat": 4,
 "nbformat_minor": 2
}
