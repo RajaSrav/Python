{
 "cells": [
  {
   "cell_type": "markdown",
   "metadata": {},
   "source": [
    "# Functions\n",
    "\n",
    "### What is Function ?.\n",
    "\n",
    "* In Python, Function is a group of realated statements that perform a specific task.\n",
    "\n",
    "* Functions are self-contained chunks of code that perform a specific task.\n",
    "\n",
    "\n",
    "    A function is a block of code which only runs when it is called.\n",
    "\n",
    "    You can pass data, known as parameters, into a function.\n",
    "\n",
    "    A function can return data as a result.\n",
    "    \n",
    "    \n",
    " - Function blocks begin with the keyword ``def`` followed by the function name and parentheses ( ( ) ).\n",
    " \n",
    " - Any input parameters or arguments should be placed within these parentheses. You can also define parameters inside these parentheses.\n",
    " \n",
    " #### What is Parameter And Arguments ?.\n",
    " - A parameter is a variable in a method definition. When a method is called, the arguments are the data you pass into the method's parameters. Parameter is variable in the declaration of function. Argument is the actual value of this variable that gets passed to function\n",
    " \n",
    " #### Calling a Function\n",
    "\n",
    "- To call a function, use the function name followed by parenthesis:\n",
    "\n",
    "#### Function Syntax.\n",
    "\n",
    "``\n",
    "def function_name():\n",
    "    Your Statement\n",
    "    ...........\n",
    "function_name()\n",
    "``\n",
    "https://cdn.programiz.com/sites/tutorial2program/files/python-how-function-works_1.jpg\n",
    "\n",
    "### How Function works in Python?\n",
    "\n",
    "![](https://cdn.programiz.com/sites/tutorial2program/files/python-how-function-works_1.jpg)\n",
    "\n",
    "\n"
   ]
  },
  {
   "cell_type": "code",
   "execution_count": 3,
   "metadata": {},
   "outputs": [
    {
     "name": "stdout",
     "output_type": "stream",
     "text": [
      "hello world\n"
     ]
    }
   ],
   "source": [
    "# example print hello world\n",
    "def greet():\n",
    "    print(\"hello world\")\n",
    "greet()"
   ]
  },
  {
   "cell_type": "code",
   "execution_count": 9,
   "metadata": {},
   "outputs": [
    {
     "name": "stdout",
     "output_type": "stream",
     "text": [
      "Enter The Namegfj\n",
      "Welcome to gfj\n"
     ]
    }
   ],
   "source": [
    "m = input(\"Enter The Name\")\n",
    "def greet(name):\n",
    "    print(\"Welcome to\", name)\n",
    "greet(m)"
   ]
  },
  {
   "cell_type": "code",
   "execution_count": 11,
   "metadata": {},
   "outputs": [
    {
     "data": {
      "text/plain": [
       "False"
      ]
     },
     "execution_count": 11,
     "metadata": {},
     "output_type": "execute_result"
    }
   ],
   "source": [
    "def even(m):\n",
    "    if m%2 == 0:\n",
    "        return True\n",
    "    else:\n",
    "        return False\n",
    "even(3)"
   ]
  },
  {
   "cell_type": "code",
   "execution_count": 16,
   "metadata": {},
   "outputs": [
    {
     "name": "stdout",
     "output_type": "stream",
     "text": [
      "0\n",
      "2\n",
      "4\n",
      "6\n",
      "8\n"
     ]
    }
   ],
   "source": [
    "def raja(f):\n",
    "    for i in range(f):\n",
    "        if i%2 == 0:\n",
    "            print(i)\n",
    "        \n",
    "raja(10)"
   ]
  },
  {
   "cell_type": "code",
   "execution_count": null,
   "metadata": {},
   "outputs": [],
   "source": []
  }
 ],
 "metadata": {
  "kernelspec": {
   "display_name": "Python 3",
   "language": "python",
   "name": "python3"
  },
  "language_info": {
   "codemirror_mode": {
    "name": "ipython",
    "version": 3
   },
   "file_extension": ".py",
   "mimetype": "text/x-python",
   "name": "python",
   "nbconvert_exporter": "python",
   "pygments_lexer": "ipython3",
   "version": "3.7.3"
  }
 },
 "nbformat": 4,
 "nbformat_minor": 2
}
