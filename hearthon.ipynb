{
 "cells": [
  {
   "cell_type": "code",
   "execution_count": 1,
   "metadata": {},
   "outputs": [
    {
     "name": "stdout",
     "output_type": "stream",
     "text": [
      "6\n",
      "2 3 5 "
     ]
    }
   ],
   "source": [
    "num = int(input())\n",
    "for i in range(1,num+1):\n",
    "    count = 0\n",
    "    for j in range(1,i+1):\n",
    "        if i%j == 0:\n",
    "            count += 1\n",
    "    if count == 2:\n",
    "        print(i, end = \" \")\n",
    "\n",
    "\n"
   ]
  },
  {
   "cell_type": "code",
   "execution_count": 23,
   "metadata": {},
   "outputs": [],
   "source": [
    "upper = 9\n",
    "for num in range(1,upper + 1):\n",
    "    for i in range(1,num):\n",
    "        if (num % i) == 0:\n",
    "            break\n",
    "        else:\n",
    "            print (num)\n"
   ]
  },
  {
   "cell_type": "code",
   "execution_count": 25,
   "metadata": {},
   "outputs": [
    {
     "ename": "IndentationError",
     "evalue": "expected an indented block (<ipython-input-25-f0417a2f565a>, line 4)",
     "output_type": "error",
     "traceback": [
      "\u001b[1;36m  File \u001b[1;32m\"<ipython-input-25-f0417a2f565a>\"\u001b[1;36m, line \u001b[1;32m4\u001b[0m\n\u001b[1;33m    print(\"YES\")\u001b[0m\n\u001b[1;37m                ^\u001b[0m\n\u001b[1;31mIndentationError\u001b[0m\u001b[1;31m:\u001b[0m expected an indented block\n"
     ]
    }
   ],
   "source": [
    "string = input()\n",
    "for i in string:\n",
    "    if i == i[::-1]:\n",
    "print(\"YES\")"
   ]
  },
  {
   "cell_type": "code",
   "execution_count": 30,
   "metadata": {},
   "outputs": [
    {
     "name": "stdout",
     "output_type": "stream",
     "text": [
      "5\n",
      "120\n"
     ]
    }
   ],
   "source": [
    "number = int(input())\n",
    "fact = 1\n",
    "for i in range(1,number+1):\n",
    "    fact *=i\n",
    "print(fact)"
   ]
  },
  {
   "cell_type": "code",
   "execution_count": 32,
   "metadata": {},
   "outputs": [
    {
     "name": "stdout",
     "output_type": "stream",
     "text": [
      "5\n",
      "120\n"
     ]
    }
   ],
   "source": [
    "number = int(input())\n",
    "fa = 1\n",
    "for i in range(1,number+1):\n",
    "    fa = (fa*i)%(10**9+7)\n",
    "print(fa)"
   ]
  },
  {
   "cell_type": "code",
   "execution_count": 33,
   "metadata": {},
   "outputs": [
    {
     "name": "stdout",
     "output_type": "stream",
     "text": [
      "5\n",
      "1 2 3 4 5\n",
      "120\n"
     ]
    }
   ],
   "source": [
    "s = int(input())\n",
    "number = list(map(int,input().split()))\n",
    "fa = 1\n",
    "for i in number:\n",
    "    fa = (fa*i)%(10**9+7)\n",
    "print(fa)\n"
   ]
  },
  {
   "cell_type": "code",
   "execution_count": 34,
   "metadata": {},
   "outputs": [
    {
     "name": "stdout",
     "output_type": "stream",
     "text": [
      "ertyuiDFGHJ\n"
     ]
    },
    {
     "data": {
      "text/plain": [
       "'ERTYUIdfghj'"
      ]
     },
     "execution_count": 34,
     "metadata": {},
     "output_type": "execute_result"
    }
   ],
   "source": [
    "string = input()\n",
    "string.swapcase()"
   ]
  },
  {
   "cell_type": "code",
   "execution_count": 35,
   "metadata": {},
   "outputs": [
    {
     "name": "stdout",
     "output_type": "stream",
     "text": [
      "3\n",
      "dfghjk\n",
      "dfghjk\n",
      "fghj\n",
      "fghj\n",
      "fghjk\n",
      "fghjk\n"
     ]
    }
   ],
   "source": [
    "s = int(input())\n",
    "for i in range(1,s+1):\n",
    "    r = input()\n",
    "    print(r)"
   ]
  },
  {
   "cell_type": "code",
   "execution_count": 77,
   "metadata": {},
   "outputs": [
    {
     "name": "stdout",
     "output_type": "stream",
     "text": [
      "20 55 2\n",
      "18\n"
     ]
    }
   ],
   "source": [
    "l =list(map(int,input().split()))\n",
    "m = l[0]\n",
    "n = l[1]\n",
    "o = l[2]\n",
    "c = 0\n",
    "for i in range(m,n+1):\n",
    "    \n",
    "    if i % o == 0:\n",
    "        c +=1\n",
    "print(c)"
   ]
  },
  {
   "cell_type": "code",
   "execution_count": null,
   "metadata": {},
   "outputs": [],
   "source": [
    "num = int(input())\n",
    "for i in range(num):   \n",
    "    string1, string2 = input().split()\n",
    "    s1 = list(string1)\n",
    "    s1.sort()\n",
    "    s2 = list(string2)\n",
    "    s2.sort()\n",
    "    if s1 == s2:\n",
    "        print(\"YES\")\n",
    "    else:\n",
    "        print(\"NO\")"
   ]
  },
  {
   "cell_type": "code",
   "execution_count": 10,
   "metadata": {},
   "outputs": [
    {
     "name": "stdout",
     "output_type": "stream",
     "text": [
      "3\n",
      "2 -3 4\n"
     ]
    },
    {
     "ename": "TypeError",
     "evalue": "can only concatenate list (not \"int\") to list",
     "output_type": "error",
     "traceback": [
      "\u001b[1;31m---------------------------------------------------------------------------\u001b[0m",
      "\u001b[1;31mTypeError\u001b[0m                                 Traceback (most recent call last)",
      "\u001b[1;32m<ipython-input-10-2425cd5dc2df>\u001b[0m in \u001b[0;36m<module>\u001b[1;34m\u001b[0m\n\u001b[0;32m      2\u001b[0m \u001b[0mnum\u001b[0m \u001b[1;33m=\u001b[0m \u001b[0mlist\u001b[0m\u001b[1;33m(\u001b[0m\u001b[0mmap\u001b[0m\u001b[1;33m(\u001b[0m\u001b[0mint\u001b[0m\u001b[1;33m,\u001b[0m\u001b[0minput\u001b[0m\u001b[1;33m(\u001b[0m\u001b[1;33m)\u001b[0m\u001b[1;33m.\u001b[0m\u001b[0msplit\u001b[0m\u001b[1;33m(\u001b[0m\u001b[1;33m)\u001b[0m\u001b[1;33m)\u001b[0m\u001b[1;33m)\u001b[0m\u001b[1;33m\u001b[0m\u001b[1;33m\u001b[0m\u001b[0m\n\u001b[0;32m      3\u001b[0m \u001b[0msum\u001b[0m \u001b[1;33m=\u001b[0m \u001b[1;36m0\u001b[0m\u001b[1;33m\u001b[0m\u001b[1;33m\u001b[0m\u001b[0m\n\u001b[1;32m----> 4\u001b[1;33m \u001b[1;32mfor\u001b[0m \u001b[0mi\u001b[0m \u001b[1;32min\u001b[0m \u001b[0mrange\u001b[0m\u001b[1;33m(\u001b[0m\u001b[1;36m1\u001b[0m\u001b[1;33m,\u001b[0m \u001b[0mnum\u001b[0m\u001b[1;33m+\u001b[0m\u001b[1;36m1\u001b[0m\u001b[1;33m)\u001b[0m\u001b[1;33m:\u001b[0m\u001b[1;33m\u001b[0m\u001b[1;33m\u001b[0m\u001b[0m\n\u001b[0m\u001b[0;32m      5\u001b[0m     \u001b[0msum\u001b[0m \u001b[1;33m+=\u001b[0m \u001b[0mi\u001b[0m\u001b[1;33m\u001b[0m\u001b[1;33m\u001b[0m\u001b[0m\n\u001b[0;32m      6\u001b[0m \u001b[0mprint\u001b[0m\u001b[1;33m(\u001b[0m\u001b[0msum\u001b[0m\u001b[1;33m)\u001b[0m\u001b[1;33m\u001b[0m\u001b[1;33m\u001b[0m\u001b[0m\n",
      "\u001b[1;31mTypeError\u001b[0m: can only concatenate list (not \"int\") to list"
     ]
    }
   ],
   "source": [
    "num1 = int(input())\n",
    "num = list(map(int,input().split()))\n",
    "sum = 0\n",
    "for i in num:\n",
    "    sum += i\n",
    "print(sum)\n",
    "    "
   ]
  },
  {
   "cell_type": "markdown",
   "metadata": {},
   "source": [
    "### "
   ]
  },
  {
   "cell_type": "code",
   "execution_count": 11,
   "metadata": {},
   "outputs": [
    {
     "name": "stdout",
     "output_type": "stream",
     "text": [
      "ifgifh\n",
      "45\n"
     ]
    }
   ],
   "source": [
    "def charSum(m):\n",
    "    char = 0\n",
    "    for i in m:\n",
    "        char += ord(i)-96\n",
    "    print(char)\n",
    "s = input()\n",
    "charSum(s)"
   ]
  },
  {
   "cell_type": "code",
   "execution_count": 15,
   "metadata": {},
   "outputs": [
    {
     "name": "stdout",
     "output_type": "stream",
     "text": [
      "<built-in function ord>\n"
     ]
    }
   ],
   "source": [
    "print(ord)"
   ]
  },
  {
   "cell_type": "code",
   "execution_count": 16,
   "metadata": {},
   "outputs": [
    {
     "name": "stdout",
     "output_type": "stream",
     "text": [
      "180\n",
      "3\n",
      "640 480\n",
      "CROP IT\n",
      "640 480\n",
      "CROP IT\n",
      "180 180\n",
      "ACCEPTED\n"
     ]
    }
   ],
   "source": [
    "d = int(input())\n",
    "n = int(input())\n",
    "def roy(d, w, h):\n",
    "    if (w == h and d <= h):\n",
    "        print(\"ACCEPTED\")\n",
    "    elif (d > w or d > h):\n",
    "        print(\"UPLODE ANOTHER\")\n",
    "    else:\n",
    "        print(\"CROP IT\")\n",
    "for i in range(n):\n",
    "    ph = [int(i) for i in input().split()]\n",
    "    roy(d,ph[0],ph[1])"
   ]
  },
  {
   "cell_type": "code",
   "execution_count": 7,
   "metadata": {},
   "outputs": [
    {
     "name": "stdout",
     "output_type": "stream",
     "text": [
      "a\n",
      "b\n",
      "c\n",
      "d\n",
      "c\n",
      "a\n",
      "b\n",
      "a\n"
     ]
    }
   ],
   "source": [
    "m = \"abcdcaba\"\n",
    "l = len(m)\n",
    "for i in range(l):\n",
    "    print(m[i])"
   ]
  },
  {
   "cell_type": "code",
   "execution_count": 15,
   "metadata": {},
   "outputs": [
    {
     "ename": "SyntaxError",
     "evalue": "invalid syntax (<ipython-input-15-dff818fd34ea>, line 4)",
     "output_type": "error",
     "traceback": [
      "\u001b[1;36m  File \u001b[1;32m\"<ipython-input-15-dff818fd34ea>\"\u001b[1;36m, line \u001b[1;32m4\u001b[0m\n\u001b[1;33m    if i%10 == 0\u001b[0m\n\u001b[1;37m                ^\u001b[0m\n\u001b[1;31mSyntaxError\u001b[0m\u001b[1;31m:\u001b[0m invalid syntax\n"
     ]
    }
   ],
   "source": [
    "a = \"abc\"\n",
    "l = len(a)\n",
    "for i in range(l):\n",
    "    print(i)"
   ]
  },
  {
   "cell_type": "code",
   "execution_count": 20,
   "metadata": {},
   "outputs": [
    {
     "name": "stdout",
     "output_type": "stream",
     "text": [
      "no\n"
     ]
    }
   ],
   "source": [
    "s = \"raj\"\n",
    "res = s[::-1]\n",
    "if s == res:\n",
    "    print(\"Palindrom\")\n",
    "else:\n",
    "    print(\"no\")"
   ]
  },
  {
   "cell_type": "code",
   "execution_count": 22,
   "metadata": {},
   "outputs": [
    {
     "name": "stdout",
     "output_type": "stream",
     "text": [
      "ar\n"
     ]
    }
   ],
   "source": [
    "res = s[1::-1]\n",
    "print(res)"
   ]
  },
  {
   "cell_type": "code",
   "execution_count": 57,
   "metadata": {},
   "outputs": [
    {
     "name": "stdout",
     "output_type": "stream",
     "text": [
      "r revers\n",
      "rara\n",
      "ar revers\n",
      "ara\n",
      "rar revers\n",
      "ra\n",
      "arar revers\n",
      "a\n",
      "arar revers\n",
      "\n"
     ]
    }
   ],
   "source": [
    "s = \"rara\"\n",
    "l = len(s)\n",
    "c = 0\n",
    "for i in range(0,l+1):\n",
    "    res = s[i::-1]\n",
    "    m = s[i::1]\n",
    "#     l -= 1\n",
    "    print(res,\"revers\")\n",
    "    print(m)\n",
    "#     if m == res:\n",
    "#         print(\"Palindrom\")\n",
    "#         c += 1\n",
    "#     else:\n",
    "#         print(\"no\")\n",
    "# print(c)\n"
   ]
  },
  {
   "cell_type": "code",
   "execution_count": 10,
   "metadata": {},
   "outputs": [
    {
     "name": "stdout",
     "output_type": "stream",
     "text": [
      "r\n",
      "ar\n",
      "rar\n",
      "arar\n",
      "arar\n"
     ]
    }
   ],
   "source": [
    "s = \"rara\"\n",
    "l = len(s)\n",
    "for i in range(0,l+1):\n",
    "    m = s[i::1]\n",
    "    r = s[i::-1]\n",
    "#     print(m)\n",
    "    print(r)"
   ]
  },
  {
   "cell_type": "code",
   "execution_count": 22,
   "metadata": {},
   "outputs": [
    {
     "name": "stdout",
     "output_type": "stream",
     "text": [
      "RajaReddy\n",
      "Raja_Reddy\n"
     ]
    }
   ],
   "source": [
    "g = input()\n",
    "m = g[0]\n",
    "for i in g[1:]:\n",
    "    if i.isupper():\n",
    "        m += '_'\n",
    "    m += i\n",
    "print(m)"
   ]
  },
  {
   "cell_type": "code",
   "execution_count": 75,
   "metadata": {},
   "outputs": [
    {
     "name": "stdout",
     "output_type": "stream",
     "text": [
      "eyfig 7r #gdbcgdreryrfrirg r7rr #rgrdrbrcrgrd\n"
     ]
    }
   ],
   "source": [
    "m = \"eyfig 7r #gdbcgd\"\n",
    "for i in m:\n",
    "    if i.isalnum():\n",
    "        m += \"r\"\n",
    "    m += i\n",
    "print(m)"
   ]
  },
  {
   "cell_type": "code",
   "execution_count": 76,
   "metadata": {},
   "outputs": [
    {
     "data": {
      "text/plain": [
       "'eyfig7rgdbcgdreryrfrirgr7rrrgrdrbrcrgrd'"
      ]
     },
     "execution_count": 76,
     "metadata": {},
     "output_type": "execute_result"
    }
   ],
   "source": [
    "''.join(e for e in m if e.isalnum())"
   ]
  },
  {
   "cell_type": "code",
   "execution_count": 60,
   "metadata": {},
   "outputs": [
    {
     "name": "stdout",
     "output_type": "stream",
     "text": [
      "d\n"
     ]
    }
   ],
   "source": [
    "for e in m:\n",
    "    if e.isalnum():\n",
    "        r = ''.join(e)\n",
    "        \n",
    "print(e)"
   ]
  },
  {
   "cell_type": "code",
   "execution_count": 92,
   "metadata": {},
   "outputs": [
    {
     "name": "stdout",
     "output_type": "stream",
     "text": [
      "abcabcabc\n"
     ]
    }
   ],
   "source": [
    "m = \"abc\"\n",
    "s = len(m)\n",
    "t = \"\"\n",
    "for i in range(s):\n",
    "    for j in range(s):\n",
    "        t += m[j]\n",
    "    \n",
    "print(t)    "
   ]
  },
  {
   "cell_type": "code",
   "execution_count": 94,
   "metadata": {},
   "outputs": [
    {
     "name": "stdout",
     "output_type": "stream",
     "text": [
      "23\n",
      "34\n"
     ]
    },
    {
     "ename": "TypeError",
     "evalue": "unsupported operand type(s) for |: 'str' and 'str'",
     "output_type": "error",
     "traceback": [
      "\u001b[1;31m---------------------------------------------------------------------------\u001b[0m",
      "\u001b[1;31mTypeError\u001b[0m                                 Traceback (most recent call last)",
      "\u001b[1;32m<ipython-input-94-86cb2dff3fcf>\u001b[0m in \u001b[0;36m<module>\u001b[1;34m\u001b[0m\n\u001b[0;32m      1\u001b[0m \u001b[0mm\u001b[0m \u001b[1;33m=\u001b[0m \u001b[0minput\u001b[0m\u001b[1;33m(\u001b[0m\u001b[1;33m)\u001b[0m\u001b[1;33m\u001b[0m\u001b[1;33m\u001b[0m\u001b[0m\n\u001b[0;32m      2\u001b[0m \u001b[0mn\u001b[0m \u001b[1;33m=\u001b[0m \u001b[0minput\u001b[0m\u001b[1;33m(\u001b[0m\u001b[1;33m)\u001b[0m\u001b[1;33m\u001b[0m\u001b[1;33m\u001b[0m\u001b[0m\n\u001b[1;32m----> 3\u001b[1;33m \u001b[0mr\u001b[0m \u001b[1;33m=\u001b[0m \u001b[0mm\u001b[0m \u001b[1;33m|\u001b[0m \u001b[0mn\u001b[0m\u001b[1;33m\u001b[0m\u001b[1;33m\u001b[0m\u001b[0m\n\u001b[0m\u001b[0;32m      4\u001b[0m \u001b[0mprint\u001b[0m\u001b[1;33m(\u001b[0m\u001b[0mlen\u001b[0m\u001b[1;33m(\u001b[0m\u001b[0mr\u001b[0m\u001b[1;33m)\u001b[0m\u001b[1;33m)\u001b[0m\u001b[1;33m\u001b[0m\u001b[1;33m\u001b[0m\u001b[0m\n",
      "\u001b[1;31mTypeError\u001b[0m: unsupported operand type(s) for |: 'str' and 'str'"
     ]
    }
   ],
   "source": [
    "m = input()\n",
    "n = input()\n",
    "r = m | n\n",
    "print(len(r))"
   ]
  },
  {
   "cell_type": "code",
   "execution_count": null,
   "metadata": {},
   "outputs": [],
   "source": [
    "import math\n",
    "def angle_y(ab,bc):\n",
    "    ac = math.sqrt(ab*ab+bc*bc)\n",
    "    x = ab/ac\n",
    "    print(round(math.degrees(math.asin(x))),end = \" \")"
   ]
  }
 ],
 "metadata": {
  "kernelspec": {
   "display_name": "Python 3",
   "language": "python",
   "name": "python3"
  },
  "language_info": {
   "codemirror_mode": {
    "name": "ipython",
    "version": 3
   },
   "file_extension": ".py",
   "mimetype": "text/x-python",
   "name": "python",
   "nbconvert_exporter": "python",
   "pygments_lexer": "ipython3",
   "version": "3.7.3"
  }
 },
 "nbformat": 4,
 "nbformat_minor": 2
}
