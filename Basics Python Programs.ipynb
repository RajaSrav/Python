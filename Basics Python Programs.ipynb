{
 "cells": [
  {
   "cell_type": "markdown",
   "metadata": {},
   "source": [
    "1. What is Python?\n",
    "2. Python Features\n",
    "3. Python Applications\n",
    "4. Python and Installation\n",
    "5. Python IDE\n",
    "6. Python Code Basics\n",
    "    1. Python Variables\n",
    "    2. Python Data Types\n",
    "        1. Lists\n",
    "        2. Tuples\n",
    "        3. Sets\n",
    "        4. Dictionary\n",
    "        5. Strings\n",
    "        6. Numeric\n",
    "    3. Python Operators\n",
    "    4. Python Conditional Statements\n",
    "        1. If Statement\n",
    "        2. Elif Statement\n",
    "        3. Else Statement\n",
    "    5. Python Loops\n",
    "        1. While Loop\n",
    "        2. For Loop\n",
    "        3. Nested Loop\n",
    "    6. I/O Operations\n",
    "    7. Python Functions\n"
   ]
  },
  {
   "cell_type": "markdown",
   "metadata": {},
   "source": [
    "\n",
    "## What is Python?\n",
    "\n",
    "* Python is an open-source object-oriented programin language. It first appeared in 1991 and has become extremaly popular among data scientists. it as the fastest growing programing language.\n",
    "\n",
    "## Python Interpreter:\n",
    "\n",
    "* An interpreter is a computer program that directly executes, i.e. performs, instructions written in a programming or scripting language, without requiring them previously to have been compiled into a machine language program. So unlike Java, Python uses an interpreter.\n",
    "\n",
    "## Python Installation:\n",
    " - Go to www.python.org/downloads/\n",
    " \n",
    " - https://www.anaconda.com/distribution/\n",
    " \n",
    "## Why learn Python?\n",
    "\n",
    "* Python's syntax is very easy to understand.\n",
    "\n"
   ]
  },
  {
   "cell_type": "code",
   "execution_count": 1,
   "metadata": {},
   "outputs": [
    {
     "name": "stdout",
     "output_type": "stream",
     "text": [
      "Hello Raj`s\n"
     ]
    }
   ],
   "source": [
    "print (\"Hello Raj`s\")"
   ]
  },
  {
   "cell_type": "markdown",
   "metadata": {},
   "source": [
    "### Let’s look at some cool features of Python:\n",
    "\n",
    "    1. Simple and easy to learn\n",
    "    2. Free and Open Source\n",
    "    3. Portable\n",
    "    4. Supports different programming paradigm\n",
    "    5. Extensible\n",
    "    \n",
    "## Python Applications:\n",
    "    1. Artificial Intelligence\n",
    "    2. Desktop Application\n",
    "    3. Automation\n",
    "    4. Web Development\n",
    "    5. Data Wrangling, Exploration And Visualization"
   ]
  },
  {
   "cell_type": "markdown",
   "metadata": {},
   "source": [
    "#### How to Print OutPut ?\n",
    "- Different Way to Print Output and String Concatenation and Formatting\n",
    "\n"
   ]
  },
  {
   "cell_type": "code",
   "execution_count": 11,
   "metadata": {},
   "outputs": [
    {
     "name": "stdout",
     "output_type": "stream",
     "text": [
      "Hai Raja\n",
      "Welcome to  My College\n",
      "Good Morning Raja !||Welcom Python\n"
     ]
    }
   ],
   "source": [
    "print (\"Hai Raja\")\n",
    "print (\"Welcome to \",\"My College\") # Two string Add is ,# it is comments \n",
    "print (\"Good Morning Raja\", \"!\", end = \"||\") # end = \"\" Add output this line\n",
    "print (\"Welcom Python\")"
   ]
  },
  {
   "cell_type": "markdown",
   "metadata": {},
   "source": [
    "## Variables in Python:\n",
    "\n",
    "* Variables are nothing but reserved memory locations to store values. This means that when you create a variable you reserve some space in memory.\n",
    "\n",
    "* In Python you don’t need to declare variables before using it, unlike other languages like Java, C etc.\n",
    "\n",
    "### Assigning values to a variable:\n",
    "* Python variables do not need explicit declaration to reserve memory space. The declaration happens automatically when you assign a value to a variable. The equal sign (=) is used to assign values to variables. Consider the below example:"
   ]
  },
  {
   "cell_type": "code",
   "execution_count": 12,
   "metadata": {},
   "outputs": [
    {
     "name": "stdout",
     "output_type": "stream",
     "text": [
      "20\n"
     ]
    }
   ],
   "source": [
    "r = 20\n",
    "print (r)"
   ]
  },
  {
   "cell_type": "code",
   "execution_count": 18,
   "metadata": {},
   "outputs": [
    {
     "name": "stdout",
     "output_type": "stream",
     "text": [
      "10\n",
      "10 \n",
      " 10\n"
     ]
    }
   ],
   "source": [
    "a = b = c = 10\n",
    "print (c)\n",
    "print (a, \"\\n\", b)"
   ]
  },
  {
   "cell_type": "code",
   "execution_count": 19,
   "metadata": {},
   "outputs": [
    {
     "name": "stdout",
     "output_type": "stream",
     "text": [
      "13 23 33\n"
     ]
    }
   ],
   "source": [
    "a, b, c = 13, 23, 33\n",
    "print (a, b, c)"
   ]
  },
  {
   "cell_type": "markdown",
   "metadata": {},
   "source": [
    "### Arithmetic Operators:\n",
    "\n",
    "* These Operators are used to perform mathematical operations like addition, subtraction etc.\n",
    "    - + Addition\n",
    "    - - Subtraction  \n",
    "    - * Multiplication\n",
    "    - / Division\n",
    "    - % Modulus\n",
    "    - ** Exponent (Power)\n",
    "    - // floting value "
   ]
  },
  {
   "cell_type": "code",
   "execution_count": null,
   "metadata": {},
   "outputs": [],
   "source": [
    "a = 23\n",
    "b = 13\n",
    "c = a+b\n",
    "d = a-b\n",
    "e = a*b\n",
    "f = a/b\n",
    "g = a%b\n",
    "h = a**b\n",
    "i = a//b\n",
    "print (\"Addition\",c,\"\\nSubtraction\",d,e,f,g,h,i)"
   ]
  }
 ],
 "metadata": {
  "kernelspec": {
   "display_name": "Python 3",
   "language": "python",
   "name": "python3"
  },
  "language_info": {
   "codemirror_mode": {
    "name": "ipython",
    "version": 3
   },
   "file_extension": ".py",
   "mimetype": "text/x-python",
   "name": "python",
   "nbconvert_exporter": "python",
   "pygments_lexer": "ipython3",
   "version": "3.7.3"
  }
 },
 "nbformat": 4,
 "nbformat_minor": 2
}
