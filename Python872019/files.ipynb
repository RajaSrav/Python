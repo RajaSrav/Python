{
 "cells": [
  {
   "cell_type": "markdown",
   "metadata": {},
   "source": [
    "# Files\n",
    "\n",
    "`filepath = \"foldername/filename.txt\"\n",
    "with open (filepath, 'w') as f:\n",
    "    f.write(\"good morning\")`"
   ]
  },
  {
   "cell_type": "code",
   "execution_count": 2,
   "metadata": {},
   "outputs": [],
   "source": [
    "filepath = \"raja.txt\"\n",
    "with open (filepath, 'w') as f:\n",
    "    f.write(\"good morning \\n\")\n",
    "    f.write(\"This is secong file\")"
   ]
  },
  {
   "cell_type": "code",
   "execution_count": 5,
   "metadata": {},
   "outputs": [
    {
     "name": "stdout",
     "output_type": "stream",
     "text": [
      "1\n",
      "2\n",
      "3\n",
      "4\n",
      "5\n",
      "6\n",
      "7\n",
      "8\n",
      "9\n",
      "10\n",
      "12\n",
      "13\n",
      "14\n",
      "15\n"
     ]
    }
   ],
   "source": [
    "with open (filepath,\"r\") as f:\n",
    "    s = f.read()\n",
    "    print(s)"
   ]
  },
  {
   "cell_type": "code",
   "execution_count": 12,
   "metadata": {},
   "outputs": [
    {
     "name": "stdout",
     "output_type": "stream",
     "text": [
      "7\n"
     ]
    }
   ],
   "source": [
    "# Read numbers from a file and sum them up\n",
    "with open (filepath,\"r\") as f:\n",
    "#     print(f.readlines())\n",
    "    s = 0\n",
    "    c = 0\n",
    "    for i in f:\n",
    "#         print(int(i))\n",
    "        s += int(i)\n",
    "        c += 1\n",
    "    print(s//c)"
   ]
  },
  {
   "cell_type": "code",
   "execution_count": 14,
   "metadata": {},
   "outputs": [
    {
     "name": "stdout",
     "output_type": "stream",
     "text": [
      "4\n"
     ]
    }
   ],
   "source": [
    "# count the number of lines\n",
    "with open(filepath, \"r\") as f:\n",
    "    linecount = 0\n",
    "    for i in f:\n",
    "        linecount += 1\n",
    "    print(linecount)"
   ]
  },
  {
   "cell_type": "code",
   "execution_count": 15,
   "metadata": {},
   "outputs": [
    {
     "name": "stdout",
     "output_type": "stream",
     "text": [
      "24\n"
     ]
    }
   ],
   "source": [
    "# count number of words in a sile\n",
    "with open(filepath, \"r\") as f:\n",
    "    wordcount = 0\n",
    "    for i in f:\n",
    "        l = i.split(\" \")\n",
    "        wordcount += len(l)\n",
    "    print(wordcount)"
   ]
  },
  {
   "cell_type": "code",
   "execution_count": 17,
   "metadata": {},
   "outputs": [
    {
     "name": "stdout",
     "output_type": "stream",
     "text": [
      "['asdfghjklqwertyuiopmnbvcxz', 'jhrf', 'y', 'y', 'y', '', '', 'ihfee', 'f\\nrgruguy', 'q', 'ifabsefghijklmnopqrstvuwxyz', 'fbivhi', 'roihvr', 'fvhri', 'vf\\nerty', 'ffghjk', 'cvbnm', 'fghjk', 'fjk\\ncvbnm', 'hjk', 'vbnm']\n",
      "21\n"
     ]
    }
   ],
   "source": [
    "with open(filepath, 'r') as f:\n",
    "    s = f.read().split(\" \")\n",
    "    print(s)\n",
    "    print(len(s))"
   ]
  },
  {
   "cell_type": "code",
   "execution_count": 20,
   "metadata": {},
   "outputs": [
    {
     "name": "stdout",
     "output_type": "stream",
     "text": [
      "['asdfghjklqwertyuiopmnbvcxz', 'jhrf', 'y', 'y', 'y', '', '', 'ihfee', 'f', 'rgruguy', 'q', 'ifabsefghijklmnopqrstvuwxyz', 'fbivhi', 'roihvr', 'fvhri', 'vf', 'erty', 'ffghjk', 'cvbnm', 'fghjk', 'fjk', 'cvbnm', 'hjk', 'vbnm']\n",
      "24\n"
     ]
    }
   ],
   "source": [
    "with open(filepath, 'r') as f:\n",
    "    s = f.read().split('\\n')\n",
    "    s = \" \".join(s).split(\" \")\n",
    "    print(s)\n",
    "    print(len(s))"
   ]
  },
  {
   "cell_type": "code",
   "execution_count": 21,
   "metadata": {},
   "outputs": [
    {
     "name": "stdout",
     "output_type": "stream",
     "text": [
      "['a', 's', 'd', 'f', 'g', 'h', 'j', 'k', 'l', 'q', 'w', 'e', 'r', 't', 'y', 'u', 'i', 'o', 'p', 'm', 'n', 'b', 'v', 'c', 'x', 'z', ' ', 'j', 'h', 'r', 'f', ' ', 'y', ' ', 'y', ' ', 'y', ' ', ' ', ' ', 'i', 'h', 'f', 'e', 'e', ' ', 'f', '\\n']\n",
      "['r', 'g', 'r', 'u', 'g', 'u', 'y', ' ', 'q', ' ', 'i', 'f', 'a', 'b', 's', 'e', 'f', 'g', 'h', 'i', 'j', 'k', 'l', 'm', 'n', 'o', 'p', 'q', 'r', 's', 't', 'v', 'u', 'w', 'x', 'y', 'z', ' ', 'f', 'b', 'i', 'v', 'h', 'i', ' ', 'r', 'o', 'i', 'h', 'v', 'r', ' ', 'f', 'v', 'h', 'r', 'i', ' ', 'v', 'f', '\\n']\n",
      "['e', 'r', 't', 'y', ' ', 'f', 'f', 'g', 'h', 'j', 'k', ' ', 'c', 'v', 'b', 'n', 'm', ' ', 'f', 'g', 'h', 'j', 'k', ' ', 'f', 'j', 'k', '\\n']\n",
      "['c', 'v', 'b', 'n', 'm', ' ', 'h', 'j', 'k', ' ', 'v', 'b', 'n', 'm']\n"
     ]
    }
   ],
   "source": [
    "# charactor count\n",
    "\n",
    "with open(filepath, 'r') as f:\n",
    "    charcount = 0\n",
    "    for i in f:\n",
    "        s = list(i)\n",
    "        print(s)"
   ]
  },
  {
   "cell_type": "code",
   "execution_count": 22,
   "metadata": {},
   "outputs": [
    {
     "name": "stdout",
     "output_type": "stream",
     "text": [
      "['asdfghjklqwertyuiopmnbvcxz jhrf y y y   ihfee f\\n', 'rgruguy q ifabsefghijklmnopqrstvuwxyz fbivhi roihvr fvhri vf\\n', 'erty ffghjk cvbnm fghjk fjk\\n', 'cvbnm hjk vbnm']\n"
     ]
    }
   ],
   "source": [
    "with open(filepath, 'r') as f:\n",
    "    charcount = 0\n",
    "    s = f.readlines()\n",
    "    print(s)"
   ]
  },
  {
   "cell_type": "code",
   "execution_count": 25,
   "metadata": {},
   "outputs": [
    {
     "name": "stdout",
     "output_type": "stream",
     "text": [
      "['asdfghjklqwertyuiopmnbvcxz', 'jhrf', 'y', 'y', 'y', 'ihfee', 'f']\n",
      "['rgruguy', 'q', 'ifabsefghijklmnopqrstvuwxyz', 'fbivhi', 'roihvr', 'fvhri', 'vf']\n",
      "['erty', 'ffghjk', 'cvbnm', 'fghjk', 'fjk']\n",
      "['cvbnm', 'hjk', 'vbnm']\n",
      "128\n"
     ]
    }
   ],
   "source": [
    "\n",
    "with open(filepath, 'r') as f:\n",
    "    charcount = 0\n",
    "    for i in f:\n",
    "        s = i.split()\n",
    "        for j in s:\n",
    "            charcount += len(j)\n",
    "        print(s)\n",
    "    print(charcount)"
   ]
  },
  {
   "cell_type": "code",
   "execution_count": 59,
   "metadata": {},
   "outputs": [
    {
     "name": "stdout",
     "output_type": "stream",
     "text": [
      "47\n",
      "60\n",
      "27\n",
      "14\n"
     ]
    }
   ],
   "source": [
    "with open(filepath, 'r') as f:\n",
    "    charcount = 0\n",
    "    for i in f:\n",
    "        s = i.strip()\n",
    "        print(len(s))"
   ]
  },
  {
   "cell_type": "code",
   "execution_count": 61,
   "metadata": {},
   "outputs": [
    {
     "data": {
      "text/plain": [
       "['_CHUNK_SIZE',\n",
       " '__class__',\n",
       " '__del__',\n",
       " '__delattr__',\n",
       " '__dict__',\n",
       " '__dir__',\n",
       " '__doc__',\n",
       " '__enter__',\n",
       " '__eq__',\n",
       " '__exit__',\n",
       " '__format__',\n",
       " '__ge__',\n",
       " '__getattribute__',\n",
       " '__getstate__',\n",
       " '__gt__',\n",
       " '__hash__',\n",
       " '__init__',\n",
       " '__init_subclass__',\n",
       " '__iter__',\n",
       " '__le__',\n",
       " '__lt__',\n",
       " '__ne__',\n",
       " '__new__',\n",
       " '__next__',\n",
       " '__reduce__',\n",
       " '__reduce_ex__',\n",
       " '__repr__',\n",
       " '__setattr__',\n",
       " '__sizeof__',\n",
       " '__str__',\n",
       " '__subclasshook__',\n",
       " '_checkClosed',\n",
       " '_checkReadable',\n",
       " '_checkSeekable',\n",
       " '_checkWritable',\n",
       " '_finalizing',\n",
       " 'buffer',\n",
       " 'close',\n",
       " 'closed',\n",
       " 'detach',\n",
       " 'encoding',\n",
       " 'errors',\n",
       " 'fileno',\n",
       " 'flush',\n",
       " 'isatty',\n",
       " 'line_buffering',\n",
       " 'mode',\n",
       " 'name',\n",
       " 'newlines',\n",
       " 'read',\n",
       " 'readable',\n",
       " 'readline',\n",
       " 'readlines',\n",
       " 'reconfigure',\n",
       " 'seek',\n",
       " 'seekable',\n",
       " 'tell',\n",
       " 'truncate',\n",
       " 'writable',\n",
       " 'write',\n",
       " 'write_through',\n",
       " 'writelines']"
      ]
     },
     "execution_count": 61,
     "metadata": {},
     "output_type": "execute_result"
    }
   ],
   "source": [
    "dir(f)"
   ]
  },
  {
   "cell_type": "code",
   "execution_count": null,
   "metadata": {},
   "outputs": [],
   "source": []
  }
 ],
 "metadata": {
  "kernelspec": {
   "display_name": "Python 3",
   "language": "python",
   "name": "python3"
  },
  "language_info": {
   "codemirror_mode": {
    "name": "ipython",
    "version": 3
   },
   "file_extension": ".py",
   "mimetype": "text/x-python",
   "name": "python",
   "nbconvert_exporter": "python",
   "pygments_lexer": "ipython3",
   "version": "3.7.3"
  }
 },
 "nbformat": 4,
 "nbformat_minor": 2
}
