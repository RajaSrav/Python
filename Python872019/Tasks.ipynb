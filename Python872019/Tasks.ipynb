{
 "cells": [
  {
   "cell_type": "markdown",
   "metadata": {},
   "source": [
    "#### Function to print all numbers divisible by 6 and not a factor of 100 in a given range(lb, ub) inclusive\n"
   ]
  },
  {
   "cell_type": "code",
   "execution_count": 2,
   "metadata": {},
   "outputs": [
    {
     "name": "stdout",
     "output_type": "stream",
     "text": [
      "1\n",
      "200\n",
      "6\n",
      "12\n",
      "18\n",
      "24\n",
      "30\n",
      "36\n",
      "42\n",
      "48\n",
      "54\n",
      "60\n",
      "66\n",
      "72\n",
      "78\n",
      "84\n",
      "90\n",
      "96\n",
      "102\n",
      "108\n",
      "114\n",
      "120\n",
      "126\n",
      "132\n",
      "138\n",
      "144\n",
      "150\n",
      "156\n",
      "162\n",
      "168\n",
      "174\n",
      "180\n",
      "186\n",
      "192\n",
      "198\n",
      "33\n"
     ]
    }
   ],
   "source": [
    "lb = int(input())\n",
    "ub = int(input())\n",
    "li = []\n",
    "for i in range(lb,ub+1):\n",
    "    if i%6==0 and i%100 != 0:\n",
    "        print(i)\n",
    "#         li.append(i)\n",
    "# print(len(li))"
   ]
  },
  {
   "cell_type": "markdown",
   "metadata": {},
   "source": [
    "#### Function to find the average of cubes of all even numbers in a given range(lb, ub) inclusive\n"
   ]
  },
  {
   "cell_type": "code",
   "execution_count": 9,
   "metadata": {},
   "outputs": [
    {
     "name": "stdout",
     "output_type": "stream",
     "text": [
      "1\n",
      "2\n",
      "Avg = 8.0\n"
     ]
    }
   ],
   "source": [
    "def AvgcubeOfEven(lb,ub):\n",
    "    lb = int(input())\n",
    "    ub = int(input())\n",
    "    sum1 = 0\n",
    "    counter = 0\n",
    "    for i in range(lb,ub+1):\n",
    "        if i%2 == 0:\n",
    "            cub = i**3\n",
    "    #         print(cub)\n",
    "            sum1 = sum1+cub\n",
    "            counter += 1\n",
    "    print(\"Avg =\",sum1/counter)\n",
    "AvgcubeOfEven(lb,ub)\n",
    "        \n",
    "    "
   ]
  },
  {
   "cell_type": "markdown",
   "metadata": {},
   "source": [
    "#### Function to generate the list of factors for a given number\n"
   ]
  },
  {
   "cell_type": "code",
   "execution_count": 1,
   "metadata": {},
   "outputs": [
    {
     "name": "stdout",
     "output_type": "stream",
     "text": [
      "8\n",
      "[1, 2, 4, 8]\n"
     ]
    }
   ],
   "source": [
    "m = int(input())\n",
    "lis = []\n",
    "for i in range(1,m+1):\n",
    "    if m%i == 0:\n",
    "        lis.append(i)\n",
    "print(lis)     "
   ]
  },
  {
   "cell_type": "markdown",
   "metadata": {},
   "source": [
    "#### Function to calculate the factorial of a given number\n"
   ]
  },
  {
   "cell_type": "code",
   "execution_count": 9,
   "metadata": {},
   "outputs": [
    {
     "name": "stdout",
     "output_type": "stream",
     "text": [
      "5\n",
      "120\n"
     ]
    }
   ],
   "source": [
    "m = int(input())\n",
    "f = 1\n",
    "for i in range(1,m+1):\n",
    "    f *= i\n",
    "print(f)"
   ]
  },
  {
   "cell_type": "code",
   "execution_count": 5,
   "metadata": {},
   "outputs": [],
   "source": [
    "m = 7\n",
    "c = 0\n",
    "if i%2 == 0:\n",
    "    print(m,\"is a Not Prime\")\n",
    "    c += 1\n",
    "if c == 2:\n",
    "    print(m,\"Is a prime\")"
   ]
  },
  {
   "cell_type": "code",
   "execution_count": 7,
   "metadata": {},
   "outputs": [
    {
     "name": "stdout",
     "output_type": "stream",
     "text": [
      "8 is not a prime number\n"
     ]
    }
   ],
   "source": [
    "num = 8\n",
    "if num > 1:\n",
    "    for i in range(2, num//2):\n",
    "        if (num % i) == 0:\n",
    "            print(num, \"is not a prime number\")\n",
    "            break\n",
    "        else: \n",
    "            print(num, \"is a prime number\")\n",
    "else:\n",
    "    print(num, \"is not a prime number\") \n"
   ]
  },
  {
   "cell_type": "markdown",
   "metadata": {},
   "source": [
    "#### Function to calculate the average first N Prime numbers"
   ]
  },
  {
   "cell_type": "code",
   "execution_count": 5,
   "metadata": {},
   "outputs": [
    {
     "name": "stdout",
     "output_type": "stream",
     "text": [
      "5\n",
      "2 3 5 3.3333333333333335\n"
     ]
    }
   ],
   "source": [
    "num = int(input())\n",
    "s = 0\n",
    "c = 0\n",
    "for i in range(1,num+1):\n",
    "    count = 0\n",
    "    for j in range(1,i+1):\n",
    "        if i%j == 0:\n",
    "            count += 1\n",
    "    if count == 2:\n",
    "        s +=i\n",
    "        c += 1\n",
    "        print(i, end = \" \")\n",
    "print(s/c)\n"
   ]
  },
  {
   "cell_type": "markdown",
   "metadata": {},
   "source": [
    "#### Function to generate all Perfect numbers in a given range"
   ]
  },
  {
   "cell_type": "code",
   "execution_count": 15,
   "metadata": {},
   "outputs": [
    {
     "name": "stdout",
     "output_type": "stream",
     "text": [
      "100\n",
      "6\n",
      "28\n"
     ]
    }
   ],
   "source": [
    "m = int(input())\n",
    "for j in range(1,m-1):\n",
    "    s = 0\n",
    "    for i in range(1,j-1):\n",
    "        if (j%i == 0):\n",
    "#             print(i)\n",
    "            s = s+i\n",
    "    if (s == j):\n",
    "        print(\"%d\" %s)"
   ]
  },
  {
   "cell_type": "code",
   "execution_count": 11,
   "metadata": {},
   "outputs": [
    {
     "name": "stdout",
     "output_type": "stream",
     "text": [
      "Please Enter any Maximum Value: 100\n",
      " 6 \n",
      " 28 \n"
     ]
    }
   ],
   "source": [
    "Maximum = int(input())\n",
    "for Number in range(1, Maximum - 1):\n",
    "    Sum = 0\n",
    "    for n in range(1, Number - 1):\n",
    "        if(Number % n == 0):\n",
    "            Sum = Sum + n       \n",
    "    if(Sum == Number):\n",
    "        print(\" %d \" %Number)"
   ]
  },
  {
   "cell_type": "code",
   "execution_count": null,
   "metadata": {},
   "outputs": [],
   "source": []
  },
  {
   "cell_type": "code",
   "execution_count": null,
   "metadata": {},
   "outputs": [],
   "source": []
  },
  {
   "cell_type": "code",
   "execution_count": null,
   "metadata": {},
   "outputs": [],
   "source": []
  },
  {
   "cell_type": "code",
   "execution_count": null,
   "metadata": {},
   "outputs": [],
   "source": []
  },
  {
   "cell_type": "code",
   "execution_count": null,
   "metadata": {},
   "outputs": [],
   "source": []
  }
 ],
 "metadata": {
  "kernelspec": {
   "display_name": "Python 3",
   "language": "python",
   "name": "python3"
  },
  "language_info": {
   "codemirror_mode": {
    "name": "ipython",
    "version": 3
   },
   "file_extension": ".py",
   "mimetype": "text/x-python",
   "name": "python",
   "nbconvert_exporter": "python",
   "pygments_lexer": "ipython3",
   "version": "3.7.3"
  }
 },
 "nbformat": 4,
 "nbformat_minor": 2
}
