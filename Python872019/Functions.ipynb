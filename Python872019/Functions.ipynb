{
 "cells": [
  {
   "cell_type": "code",
   "execution_count": 2,
   "metadata": {},
   "outputs": [
    {
     "data": {
      "text/plain": [
       "5"
      ]
     },
     "execution_count": 2,
     "metadata": {},
     "output_type": "execute_result"
    }
   ],
   "source": [
    "def raja(arg1,arg2):\n",
    "    return arg1+arg2\n",
    "raja(2,3)"
   ]
  },
  {
   "cell_type": "code",
   "execution_count": 3,
   "metadata": {},
   "outputs": [
    {
     "data": {
      "text/plain": [
       "['1', '2', '3', '4', '5']"
      ]
     },
     "execution_count": 3,
     "metadata": {},
     "output_type": "execute_result"
    }
   ],
   "source": [
    "s = \"1 2 3 4 5\"\n",
    "s.split()"
   ]
  },
  {
   "cell_type": "code",
   "execution_count": 5,
   "metadata": {},
   "outputs": [
    {
     "data": {
      "text/plain": [
       "['1', '2', '3', '4', '5']"
      ]
     },
     "execution_count": 5,
     "metadata": {},
     "output_type": "execute_result"
    }
   ],
   "source": [
    "s = \"1,2,3,4,5\"\n",
    "s = s.split(',')\n",
    "s\n",
    "for i in s:\n",
    "    "
   ]
  },
  {
   "cell_type": "code",
   "execution_count": 7,
   "metadata": {},
   "outputs": [],
   "source": [
    "# A - 1\n",
    "# B - 2\n",
    "\n",
    "\n",
    "# given a string in capital letters \n",
    "# Convert it into Neum"
   ]
  },
  {
   "cell_type": "code",
   "execution_count": 11,
   "metadata": {},
   "outputs": [
    {
     "name": "stdout",
     "output_type": "stream",
     "text": [
      "10\n",
      "15\n",
      "2\n"
     ]
    }
   ],
   "source": [
    "n1 = int(input())\n",
    "n2 = int(input())\n",
    "temp = n1\n",
    "if n1>n2:\n",
    "    temp = n2\n",
    "c = 0\n",
    "for i in range(1,temp):\n",
    "    if n1%i == 0 and n2%i == 0:\n",
    "        c += 1\n",
    "print(c)"
   ]
  },
  {
   "cell_type": "code",
   "execution_count": 12,
   "metadata": {},
   "outputs": [],
   "source": [
    "# find highest frequent elament in the list \n",
    "# [1,1,1,1,1,2,3,1,3]\n",
    "#  2nd highest frequent element\n",
    "# kth Highest frequent\n",
    "# Find the absolute difference of two numbers\n",
    "# with out using \"abs\" function\n"
   ]
  },
  {
   "cell_type": "code",
   "execution_count": 15,
   "metadata": {},
   "outputs": [
    {
     "name": "stdout",
     "output_type": "stream",
     "text": [
      "5 --> 1\n",
      "2 --> 8\n",
      "3 --> 12\n",
      "4 --> 14\n",
      "6 --> 15\n"
     ]
    }
   ],
   "source": [
    "lis = [5,2,1,3,2,2,2,2,2,1,4,1,1,1,3,2,4,4,4,4,4,4,4,6,6,6,6,6,6,6,6,6,6,6,6,6,6,6,4,4,4,4,4,4,3,3,2,1,3,3,3,3,3,3,3,3]\n",
    "height = 0\n",
    "res = 0\n",
    "for i in lis:\n",
    "    freq = lis.count(i)\n",
    "    if freq > height:\n",
    "        height = freq\n",
    "        res = i\n",
    "        print(res,\"-->\",lis.count(i))"
   ]
  },
  {
   "cell_type": "code",
   "execution_count": 57,
   "metadata": {},
   "outputs": [
    {
     "ename": "TypeError",
     "evalue": "'int' object is not callable",
     "output_type": "error",
     "traceback": [
      "\u001b[1;31m---------------------------------------------------------------------------\u001b[0m",
      "\u001b[1;31mTypeError\u001b[0m                                 Traceback (most recent call last)",
      "\u001b[1;32m<ipython-input-57-90bad90db6f4>\u001b[0m in \u001b[0;36m<module>\u001b[1;34m\u001b[0m\n\u001b[0;32m      2\u001b[0m \u001b[0mheight\u001b[0m \u001b[1;33m=\u001b[0m \u001b[1;36m0\u001b[0m\u001b[1;33m\u001b[0m\u001b[1;33m\u001b[0m\u001b[0m\n\u001b[0;32m      3\u001b[0m \u001b[0mlis\u001b[0m \u001b[1;33m=\u001b[0m \u001b[0mstr\u001b[0m\u001b[1;33m(\u001b[0m\u001b[0mlis\u001b[0m\u001b[1;33m)\u001b[0m\u001b[1;33m\u001b[0m\u001b[1;33m\u001b[0m\u001b[0m\n\u001b[1;32m----> 4\u001b[1;33m \u001b[0mres\u001b[0m \u001b[1;33m=\u001b[0m \u001b[0mheight\u001b[0m\u001b[1;33m(\u001b[0m\u001b[0mset\u001b[0m\u001b[1;33m(\u001b[0m\u001b[0mlis\u001b[0m\u001b[1;33m)\u001b[0m\u001b[1;33m,\u001b[0m \u001b[0mkey\u001b[0m \u001b[1;33m=\u001b[0m \u001b[0mlis\u001b[0m\u001b[1;33m.\u001b[0m\u001b[0mcount\u001b[0m\u001b[1;33m)\u001b[0m\u001b[1;33m\u001b[0m\u001b[1;33m\u001b[0m\u001b[0m\n\u001b[0m\u001b[0;32m      5\u001b[0m \u001b[0mprint\u001b[0m\u001b[1;33m(\u001b[0m\u001b[0mres\u001b[0m\u001b[1;33m)\u001b[0m\u001b[1;33m\u001b[0m\u001b[1;33m\u001b[0m\u001b[0m\n",
      "\u001b[1;31mTypeError\u001b[0m: 'int' object is not callable"
     ]
    }
   ],
   "source": [
    "lis = [5,2,6,1,3,2,2,2,2,2,1,4,1,1,1,3,2,4,4,4,4,4,4,4,4,4,4,4,4,4,3,3,2,1,3,3,3,3,3,3,3,3]\n",
    "height = 0\n",
    "lis = str(lis)\n",
    "res = height(set(lis), key = lis.count)\n",
    "print(res)"
   ]
  },
  {
   "cell_type": "code",
   "execution_count": 7,
   "metadata": {},
   "outputs": [
    {
     "name": "stdout",
     "output_type": "stream",
     "text": [
      "4 --> 14\n"
     ]
    }
   ],
   "source": [
    "import statistics as s\n",
    "lis = [5,2,6,1,3,2,2,2,2,2,1,4,1,1,1,3,2,4,4,4,4,4,4,4,4,4,4,4,4,4,3,3,2,1,3,3,3,3,3,3,3,3]\n",
    "res = s.mode(lis)\n",
    "print(res,\"-->\",lis.count(res))"
   ]
  },
  {
   "cell_type": "code",
   "execution_count": 1,
   "metadata": {},
   "outputs": [
    {
     "data": {
      "text/plain": [
       "8"
      ]
     },
     "execution_count": 1,
     "metadata": {},
     "output_type": "execute_result"
    }
   ],
   "source": [
    "def hf(l):\n",
    "    d = {}\n",
    "    for i in l:\n",
    "        count = l.count(i)\n",
    "        if i not in d:\n",
    "            d[i] = count\n",
    "    return d\n",
    "m = hf([1,1,1,1,1,1,1,1,2,2,2,23,3,3,3,])\n",
    "max_ra = max(m.values())\n",
    "max_ra\n",
    "l = sorted(m.values(),reverse = True)\n",
    "# max1 = l[1]\n",
    "# for i in d.items():\n",
    "#     if i[1] == max1:\n",
    "#         print(i[0])"
   ]
  },
  {
   "cell_type": "markdown",
   "metadata": {},
   "source": [
    "# Python Functions\n",
    "\n",
    "## What is functions?\n",
    "* function is a group of related statements that perform a specific task.\n",
    "* A function is a block of code which only runs when it is called\n",
    "* In Python a function is defined using the def keyword.\n",
    "\n",
    "### Syntax \n",
    "``def functionName():\n",
    "        Expresion\n",
    "    functionName()``\n",
    "## What is a Parameter\n",
    "\n",
    "* A parameter is a variable in a method definition. When a method is called,\n",
    "* the arguments are the data you pass into the method's parameters. \n",
    "* Parameter is variable in the declaration of function. Argument is the actual value of this variable that gets passed to function"
   ]
  },
  {
   "cell_type": "markdown",
   "metadata": {},
   "source": [
    "## finction two types\n",
    "    1. User define function\n",
    "    2. Bultin function \n",
    "\n",
    "#### User define function 4 typs\n",
    "    1. with argument with return "
   ]
  },
  {
   "cell_type": "code",
   "execution_count": 2,
   "metadata": {},
   "outputs": [
    {
     "name": "stdout",
     "output_type": "stream",
     "text": [
      "Enter a: 66\n",
      "Enter b: 77\n"
     ]
    },
    {
     "data": {
      "text/plain": [
       "143"
      ]
     },
     "execution_count": 2,
     "metadata": {},
     "output_type": "execute_result"
    }
   ],
   "source": [
    "def sum (a,b):  \n",
    "    return a+b;  \n",
    "  \n",
    "#taking values from the user  \n",
    "a = int(input(\"Enter a: \"))  \n",
    "b = int(input(\"Enter b: \"))  \n",
    "  \n",
    "#printing the sum of a and b  \n",
    "sum(a,b)"
   ]
  },
  {
   "cell_type": "code",
   "execution_count": null,
   "metadata": {},
   "outputs": [],
   "source": []
  }
 ],
 "metadata": {
  "kernelspec": {
   "display_name": "Python 3",
   "language": "python",
   "name": "python3"
  },
  "language_info": {
   "codemirror_mode": {
    "name": "ipython",
    "version": 3
   },
   "file_extension": ".py",
   "mimetype": "text/x-python",
   "name": "python",
   "nbconvert_exporter": "python",
   "pygments_lexer": "ipython3",
   "version": "3.7.3"
  }
 },
 "nbformat": 4,
 "nbformat_minor": 2
}
