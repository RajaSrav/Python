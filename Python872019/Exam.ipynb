{
 "cells": [
  {
   "cell_type": "markdown",
   "metadata": {},
   "source": [
    "while True:\n"
   ]
  },
  {
   "cell_type": "code",
   "execution_count": 2,
   "metadata": {},
   "outputs": [
    {
     "name": "stdout",
     "output_type": "stream",
     "text": [
      "32\n",
      "32 76\n",
      "76 89\n",
      "EXIT\n",
      "\n",
      "\n",
      "76\n"
     ]
    }
   ],
   "source": [
    "max_el = 0\n",
    "while True:\n",
    "    n = input()\n",
    "    if n == \"EXIT\":\n",
    "        break\n",
    "    num = int(n)\n",
    "    if num%2 == 0:\n",
    "        print(num, end = \" \")\n",
    "        if max_el <  num:\n",
    "            max_el = num\n",
    "print(\"\\n\")\n",
    "print(max_el)\n",
    "        "
   ]
  },
  {
   "cell_type": "code",
   "execution_count": 5,
   "metadata": {},
   "outputs": [
    {
     "name": "stdout",
     "output_type": "stream",
     "text": [
      "3\n",
      "http://google.com\n",
      "http://raja.com\n",
      "http://srav.in\n",
      "com\n"
     ]
    }
   ],
   "source": [
    "n = int(input())\n",
    "d= {}\n",
    "for i in range(n):\n",
    "    iurl = input().split('.')\n",
    "#     prrint(iurl.split(\".\"))\n",
    "    domain = iurl[-1]\n",
    "    if domain not in d:\n",
    "        d[domain] = 1\n",
    "    else:\n",
    "        d[domain] += 1\n",
    "m = max(d.values())\n",
    "for i in d.items():\n",
    "    if i[1] == m:\n",
    "        print(i[0])\n",
    "    "
   ]
  },
  {
   "cell_type": "code",
   "execution_count": 1,
   "metadata": {},
   "outputs": [
    {
     "name": "stdout",
     "output_type": "stream",
     "text": [
      "5\n",
      "9052507933\n",
      "+91-(905)-250-7933\n",
      "87646t\n",
      "+91-(646)-t-\n",
      "4889975937778387685366\n",
      "+91-(899)-759-37778387685366\n",
      "56465\n",
      "+91-(465)--\n",
      "765765\n",
      "+91-(576)-5-\n"
     ]
    }
   ],
   "source": [
    "for _ in range(int(input())):\n",
    "    p = input()\n",
    "    for i in p:\n",
    "        if (len(p) == 10):\n",
    "            print(\"+91-\"+\"(\"+p[0:3]+\")-\"+p[3:6]+\"-\"+p[6:])\n",
    "            break\n",
    "        elif i == \"0\":\n",
    "            print(\"+91-\"+\"(\"+p[1:4]+\")-\"+p[4:7]+\"-\"+p[7:])\n",
    "            break\n",
    "        else:\n",
    "            if i == \"+\":\n",
    "                print(\"+91-\"+\"(\"+p[3:6]+\")-\"+p[6:9]+\"-\"+p[9:])\n",
    "                break\n",
    "            else:\n",
    "                print(\"+91-\"+\"(\"+p[2:5]+\")-\"+p[5:8]+\"-\"+p[8:])\n",
    "                break"
   ]
  },
  {
   "cell_type": "code",
   "execution_count": null,
   "metadata": {},
   "outputs": [],
   "source": []
  }
 ],
 "metadata": {
  "kernelspec": {
   "display_name": "Python 3",
   "language": "python",
   "name": "python3"
  },
  "language_info": {
   "codemirror_mode": {
    "name": "ipython",
    "version": 3
   },
   "file_extension": ".py",
   "mimetype": "text/x-python",
   "name": "python",
   "nbconvert_exporter": "python",
   "pygments_lexer": "ipython3",
   "version": "3.7.3"
  }
 },
 "nbformat": 4,
 "nbformat_minor": 2
}
