{
 "cells": [
  {
   "cell_type": "markdown",
   "metadata": {},
   "source": [
    "while True:\n"
   ]
  },
  {
   "cell_type": "code",
   "execution_count": 2,
   "metadata": {},
   "outputs": [
    {
     "name": "stdout",
     "output_type": "stream",
     "text": [
      "32\n",
      "32 76\n",
      "76 89\n",
      "EXIT\n",
      "\n",
      "\n",
      "76\n"
     ]
    }
   ],
   "source": [
    "max_el = 0\n",
    "while True:\n",
    "    n = input()\n",
    "    if n == \"EXIT\":\n",
    "        break\n",
    "    num = int(n)\n",
    "    if num%2 == 0:\n",
    "        print(num, end = \" \")\n",
    "        if max_el <  num:\n",
    "            max_el = num\n",
    "print(\"\\n\")\n",
    "print(max_el)\n",
    "        "
   ]
  },
  {
   "cell_type": "code",
   "execution_count": 5,
   "metadata": {},
   "outputs": [
    {
     "name": "stdout",
     "output_type": "stream",
     "text": [
      "3\n",
      "http://google.com\n",
      "http://raja.com\n",
      "http://srav.in\n",
      "com\n"
     ]
    }
   ],
   "source": [
    "n = int(input())\n",
    "d= {}\n",
    "for i in range(n):\n",
    "    iurl = input().split('.')\n",
    "#     prrint(iurl.split(\".\"))\n",
    "    domain = iurl[-1]\n",
    "    if domain not in d:\n",
    "        d[domain] = 1\n",
    "    else:\n",
    "        d[domain] += 1\n",
    "m = max(d.values())\n",
    "for i in d.items():\n",
    "    if i[1] == m:\n",
    "        print(i[0])\n",
    "    "
   ]
  },
  {
   "cell_type": "code",
   "execution_count": null,
   "metadata": {},
   "outputs": [],
   "source": []
  }
 ],
 "metadata": {
  "kernelspec": {
   "display_name": "Python 3",
   "language": "python",
   "name": "python3"
  },
  "language_info": {
   "codemirror_mode": {
    "name": "ipython",
    "version": 3
   },
   "file_extension": ".py",
   "mimetype": "text/x-python",
   "name": "python",
   "nbconvert_exporter": "python",
   "pygments_lexer": "ipython3",
   "version": "3.7.3"
  }
 },
 "nbformat": 4,
 "nbformat_minor": 2
}
