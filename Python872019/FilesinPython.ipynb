{
 "cells": [
  {
   "cell_type": "markdown",
   "metadata": {},
   "source": [
    "#  What is Files?\n",
    "\n",
    "- A file is some information or data which stays in the computer storage devices.\n",
    "* [Refrence](https://pymbook.readthedocs.io/en/latest/file.html)\n",
    "\n",
    "* \"r\" - Read - Default value. Opens a file for reading, error if the file does not exist\n",
    "\n",
    "* \"a\" - Append - Opens a file for appending, creates the file if it does not exist\n",
    "\n",
    "* \"w\" - Write - Opens a file for writing, creates the file if it does not exist\n",
    "\n",
    "* \"x\" - Create - Creates the specified file, returns an error if the file exists\n",
    "\n",
    "* \"t\" - Text - Default value. Text mode\n",
    "\n",
    "* \"b\" - Binary - Binary mode (e.g. images)\n",
    "* “ r+ “, for both reading and writing\n",
    "\n",
    "```\n",
    "f = open(\"demofile.txt\")\n",
    "f = open(\"demofile.txt\", \"rt\")\n",
    "\n",
    "```\n",
    "* Because \"r\" for read, and \"t\" for text are the default values, you do not need to specify them."
   ]
  },
  {
   "cell_type": "code",
   "execution_count": 2,
   "metadata": {},
   "outputs": [],
   "source": [
    "f=open(\"raj.txt\",'x')\n",
    "\n"
   ]
  },
  {
   "cell_type": "code",
   "execution_count": 3,
   "metadata": {},
   "outputs": [
    {
     "data": {
      "text/plain": [
       "['_CHUNK_SIZE',\n",
       " '__class__',\n",
       " '__del__',\n",
       " '__delattr__',\n",
       " '__dict__',\n",
       " '__dir__',\n",
       " '__doc__',\n",
       " '__enter__',\n",
       " '__eq__',\n",
       " '__exit__',\n",
       " '__format__',\n",
       " '__ge__',\n",
       " '__getattribute__',\n",
       " '__getstate__',\n",
       " '__gt__',\n",
       " '__hash__',\n",
       " '__init__',\n",
       " '__init_subclass__',\n",
       " '__iter__',\n",
       " '__le__',\n",
       " '__lt__',\n",
       " '__ne__',\n",
       " '__new__',\n",
       " '__next__',\n",
       " '__reduce__',\n",
       " '__reduce_ex__',\n",
       " '__repr__',\n",
       " '__setattr__',\n",
       " '__sizeof__',\n",
       " '__str__',\n",
       " '__subclasshook__',\n",
       " '_checkClosed',\n",
       " '_checkReadable',\n",
       " '_checkSeekable',\n",
       " '_checkWritable',\n",
       " '_finalizing',\n",
       " 'buffer',\n",
       " 'close',\n",
       " 'closed',\n",
       " 'detach',\n",
       " 'encoding',\n",
       " 'errors',\n",
       " 'fileno',\n",
       " 'flush',\n",
       " 'isatty',\n",
       " 'line_buffering',\n",
       " 'mode',\n",
       " 'name',\n",
       " 'newlines',\n",
       " 'read',\n",
       " 'readable',\n",
       " 'readline',\n",
       " 'readlines',\n",
       " 'reconfigure',\n",
       " 'seek',\n",
       " 'seekable',\n",
       " 'tell',\n",
       " 'truncate',\n",
       " 'writable',\n",
       " 'write',\n",
       " 'write_through',\n",
       " 'writelines']"
      ]
     },
     "execution_count": 3,
     "metadata": {},
     "output_type": "execute_result"
    }
   ],
   "source": [
    "dir(f)"
   ]
  },
  {
   "cell_type": "code",
   "execution_count": 3,
   "metadata": {},
   "outputs": [
    {
     "name": "stdout",
     "output_type": "stream",
     "text": [
      "\\nuihdgv\n",
      "\\njgdgiueifh\n",
      "\\dkhgfiyefgy\n",
      "\\ngfiwgifgeqgi\n",
      "\\noeufhiuehfgweg\n"
     ]
    }
   ],
   "source": [
    "f = open(\"hai.txt\",\"w\")\n",
    "for i in range(5):\n",
    "    g=input()\n",
    "    f.write(g)\n",
    "f.close()"
   ]
  },
  {
   "cell_type": "code",
   "execution_count": 9,
   "metadata": {},
   "outputs": [
    {
     "name": "stdout",
     "output_type": "stream",
     "text": [
      "enter marks144\n",
      "Enter marks244\n",
      "Enter marks3444\n",
      "enter marks144\n",
      "Enter marks244\n",
      "Enter marks344\n",
      "enter marks144\n",
      "Enter marks244\n",
      "Enter marks344\n",
      "enter marks144\n",
      "Enter marks244\n",
      "Enter marks344\n"
     ]
    }
   ],
   "source": [
    "m = open(\"raj.txt\",\"w\")\n",
    "m.write(\"marks1 \\tmarks2 \\tmarks3\")\n",
    "for i in range(1,5):\n",
    "    g=int(input(\"enter marks1\"))\n",
    "    t=int(input(\"Enter marks2\"))\n",
    "    l=int(input(\"Enter marks3\"))\n",
    "    m.write(\"\\n\"+str(g)+\"\\t\"+str(t)+\"\\t\"+str(l))\n",
    "    \n",
    "m.close()"
   ]
  },
  {
   "cell_type": "code",
   "execution_count": 21,
   "metadata": {},
   "outputs": [
    {
     "data": {
      "text/plain": [
       "'marks1 \\tma'"
      ]
     },
     "execution_count": 21,
     "metadata": {},
     "output_type": "execute_result"
    }
   ],
   "source": [
    "m=open(\"raj.txt\",\"r\")\n",
    "g=m.read(10)\n",
    "g\n"
   ]
  },
  {
   "cell_type": "code",
   "execution_count": 24,
   "metadata": {},
   "outputs": [
    {
     "data": {
      "text/plain": [
       "'marks1 \\tmarks2 \\tmarks3\\n'"
      ]
     },
     "execution_count": 24,
     "metadata": {},
     "output_type": "execute_result"
    }
   ],
   "source": [
    "m=open(\"raj.txt\",\"r\")\n",
    "g=m.readline()\n",
    "g"
   ]
  },
  {
   "cell_type": "code",
   "execution_count": 25,
   "metadata": {},
   "outputs": [
    {
     "data": {
      "text/plain": [
       "['marks1 \\tmarks2 \\tmarks3\\n',\n",
       " '44\\t44\\t444\\n',\n",
       " '44\\t44\\t44\\n',\n",
       " '44\\t44\\t44\\n',\n",
       " '44\\t44\\t44']"
      ]
     },
     "execution_count": 25,
     "metadata": {},
     "output_type": "execute_result"
    }
   ],
   "source": [
    "m=open(\"raj.txt\",\"r\")\n",
    "g=m.readlines()\n",
    "g"
   ]
  },
  {
   "cell_type": "code",
   "execution_count": 31,
   "metadata": {},
   "outputs": [
    {
     "name": "stdout",
     "output_type": "stream",
     "text": [
      "44\n",
      "44\n",
      "444\n",
      "44\n",
      "44\n",
      "44\n",
      "44\n",
      "44\n",
      "44\n",
      "44\n",
      "44\n",
      "44\n",
      "928\n",
      "77.33333333333333\n"
     ]
    }
   ],
   "source": [
    "m=open(\"raj.txt\",\"r\")\n",
    "s=0\n",
    "a=0\n",
    "g=m.read().split()\n",
    "for i in g:\n",
    "    if i.isdigit():\n",
    "        s +=int(i)\n",
    "        a +=1\n",
    "        print(i)\n",
    "print(s)\n",
    "print(s/a)\n",
    "        "
   ]
  },
  {
   "cell_type": "code",
   "execution_count": 32,
   "metadata": {},
   "outputs": [
    {
     "name": "stdout",
     "output_type": "stream",
     "text": [
      "\\nuihdgv\\njgdgiueifh\\dkhgfiyefgy\\ngfiwgifgeqgi\\noeufhiuehfgweg\n"
     ]
    }
   ],
   "source": [
    "f=open(\"hai.txt\",\"r\")\n",
    "for i in f:\n",
    "    print(i)"
   ]
  },
  {
   "cell_type": "code",
   "execution_count": 37,
   "metadata": {},
   "outputs": [
    {
     "name": "stdout",
     "output_type": "stream",
     "text": [
      "{'hai': 3, 'hello': 2}\n",
      "hello 2\n"
     ]
    }
   ],
   "source": [
    "s=\"hai hello hai hai hello\"\n",
    "d={}\n",
    "for i in s.split():\n",
    "    if i not in d:\n",
    "        d[i]=s.count(i)\n",
    "print(d)\n",
    "print(min(d,key=d.get),d[min(d,key=d.get)])\n",
    "    \n",
    "    "
   ]
  },
  {
   "cell_type": "code",
   "execution_count": 3,
   "metadata": {},
   "outputs": [
    {
     "name": "stdout",
     "output_type": "stream",
     "text": [
      "222\n",
      "2 3 5 7 11 13 17 19 23 29 31 37 41 43 47 53 59 61 67 71 73 79 83 89 97 101 103 107 109 113 127 131 137 139 149 151 157 163 167 173 179 181 191 193 197 199 211 "
     ]
    }
   ],
   "source": [
    "num = int(input())\n",
    "for i in range(1,num+1):\n",
    "    count = 0\n",
    "    for j in range(1,i+1):\n",
    "        if i%j == 0:\n",
    "            count += 1\n",
    "    if count == 2:\n",
    "        print(i, end = \" \")\n",
    "    "
   ]
  },
  {
   "cell_type": "code",
   "execution_count": null,
   "metadata": {},
   "outputs": [],
   "source": []
  }
 ],
 "metadata": {
  "kernelspec": {
   "display_name": "Python 3",
   "language": "python",
   "name": "python3"
  },
  "language_info": {
   "codemirror_mode": {
    "name": "ipython",
    "version": 3
   },
   "file_extension": ".py",
   "mimetype": "text/x-python",
   "name": "python",
   "nbconvert_exporter": "python",
   "pygments_lexer": "ipython3",
   "version": "3.7.3"
  }
 },
 "nbformat": 4,
 "nbformat_minor": 2
}
