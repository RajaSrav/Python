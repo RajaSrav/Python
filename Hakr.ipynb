{
 "cells": [
  {
   "cell_type": "code",
   "execution_count": 4,
   "metadata": {},
   "outputs": [
    {
     "name": "stdout",
     "output_type": "stream",
     "text": [
      "2\n",
      "18\n",
      "40\n",
      "19 WS\n",
      "45 AS\n"
     ]
    }
   ],
   "source": [
    "N=int(input())\n",
    "lis=[]\n",
    "for i in range(0,N):\n",
    "    x=int(input())\n",
    "    lis.append(x)\n",
    "for s_n in lis:\n",
    "    for n in range(1,109):\n",
    "        if s_n%6==0 or (s_n-1)%6==0 or s_n==1:\n",
    "            s=\"WS\"\n",
    "            break;\n",
    "        elif s_n==2 or (s_n-2)%3==0:\n",
    "            s=\"MS\"\n",
    "            break;\n",
    "        else:\n",
    "            s=\"AS\"\n",
    "            break;\n",
    "    if s_n%12==0:\n",
    "        z=s_n//12\n",
    "    else:\n",
    "        z=(s_n // 12)+1\n",
    "    face_seat=z*12 - s_n + (z-1)*12+1\n",
    "    print(\"{} {}\".format(face_seat,s),end=\"\\n\")"
   ]
  },
  {
   "cell_type": "code",
   "execution_count": 129,
   "metadata": {},
   "outputs": [
    {
     "name": "stdout",
     "output_type": "stream",
     "text": [
      "2\n",
      "18\n",
      "45\n",
      "19 WS\n",
      "40 AS\n"
     ]
    }
   ],
   "source": [
    "NumberOfTestCases = int(input())\n",
    "SeatNumber = list()\n",
    "rem = 0\n",
    "while NumberOfTestCases:\n",
    "    SeatNumber.append(int(input()))\n",
    "    NumberOfTestCases -=1\n",
    "\n",
    "for i in range(len(SeatNumber)):\n",
    "    rem = SeatNumber[i]%12\n",
    "    if rem == 1: #Window Seat\n",
    "        print ('{0} {1}'.format(SeatNumber[i]+11,'WS'))\n",
    "    elif rem == 2: #Middle Seat\n",
    "        print ('{0} {1}'.format(SeatNumber[i]+9,'MS'))\n",
    "    elif rem == 3: #Aisle Seat\n",
    "        print ('{0} {1}'.format(SeatNumber[i]+7,'AS'))\n",
    "    elif rem == 4: #Aisle Seat\n",
    "        print ('{0} {1}'.format(SeatNumber[i]+5,'AS'))\n",
    "    elif rem == 5: #Middle Seat\n",
    "        print ('{0} {1}'.format(SeatNumber[i]+3,'MS'))\n",
    "    elif rem == 6: #Window Seat\n",
    "        print ('{0} {1}'.format(SeatNumber[i]+1,'WS'))\n",
    "    elif rem == 7: #Window Seat\n",
    "        print ('{0} {1}'.format(SeatNumber[i]-1,'WS'))\n",
    "    elif rem == 8: # Middle Seat\n",
    "        print ('{0} {1}'.format(SeatNumber[i]-3,'MS'))\n",
    "    elif rem == 9: #Aisle Seat\n",
    "        print ('{0} {1}'.format(SeatNumber[i]-5,'AS'))\n",
    "    elif rem == 10: #Aisle Seat\n",
    "        print ('{0} {1}'.format(SeatNumber[i]-7,'AS'))\n",
    "    elif rem == 11: #Middle Seat\n",
    "        print ('{0} {1}'.format(SeatNumber[i]-9,'MS'))\n",
    "    elif rem == 0: #Window Seat\n",
    "        print ('{0} {1}'.format(SeatNumber[i]-11,'WS'))\n",
    "   \n",
    "    rem = 0"
   ]
  },
  {
   "cell_type": "code",
   "execution_count": 126,
   "metadata": {},
   "outputs": [
    {
     "name": "stdout",
     "output_type": "stream",
     "text": [
      "a 2\n",
      "i 1\n",
      "h 1\n"
     ]
    }
   ],
   "source": [
    "k = \"haia\"\n",
    "s = set(k)\n",
    "for i in s:\n",
    "    r = k.count(i)\n",
    "    print(i,r)   "
   ]
  },
  {
   "cell_type": "code",
   "execution_count": 1,
   "metadata": {},
   "outputs": [
    {
     "name": "stdout",
     "output_type": "stream",
     "text": [
      "{'hai': 10, 'hello': 11, 'whater': 11, 'banana': 11, 'srinivas': 5, 'sai': 5, 'hhello': 1, 'srit': 1, 'anana': 12}\n"
     ]
    }
   ],
   "source": [
    "\n",
    "m=\"hai hello whater banana hai hello whater banana srinivas sai hai hello whater banana hai hello whater banana srinivas sai hhello whater banana hai hello whater banana srinivas sai hai hello whater banana hai hello whater banana srinivas sai srit anana hai hello whater banana srinivas sai hai hello whater banana hai hello whater banana\"\n",
    "d={}\n",
    "for i in m.split():\n",
    "      if i not in d:\n",
    "            d[i]=m.count(i)\n",
    "print(d)\n",
    "      \n"
   ]
  },
  {
   "cell_type": "code",
   "execution_count": 136,
   "metadata": {},
   "outputs": [
    {
     "name": "stdout",
     "output_type": "stream",
     "text": [
      "1\n",
      "cde\n",
      "abc\n",
      "4\n"
     ]
    }
   ],
   "source": [
    "from collections import Counter\n",
    "# Write your code here\n",
    "def ang(a,b):\n",
    "    p = Counter(a)\n",
    "    q = Counter(b)\n",
    "    print(sum((q-p).values())+sum((p-q).values()))\n",
    "    \n",
    "\n",
    "n  = int(input())\n",
    "for i in range(n):\n",
    "    a = input()\n",
    "    b = input()\n",
    "    ang(a,b)"
   ]
  },
  {
   "cell_type": "code",
   "execution_count": 138,
   "metadata": {},
   "outputs": [
    {
     "name": "stdout",
     "output_type": "stream",
     "text": [
      "1\n",
      "cde\n",
      "abc\n",
      "NO LUCK\n"
     ]
    }
   ],
   "source": [
    "test_case = int(input())\n",
    "#buf_dict0 = dict()\n",
    "#buf_dict1 = dict()\n",
    "alpha_cnt=0\n",
    "diff_dict = dict()\n",
    "disp_dct = dict()\n",
    "flag=0\n",
    " \n",
    "for i in range(0,test_case):\n",
    "\tchng_flg=0\n",
    "\ts_c=str()\n",
    "\tdiff_dict = dict()\n",
    "\tflag=0\n",
    "\tstr0 = str(input())\n",
    "\tstr0 = ''.join(str0.split())\n",
    " \n",
    "\tstr1 = str(input())\n",
    "\tstr1 = ''.join(str1.split())\n",
    " \n",
    "\tstr0=str0.upper()\n",
    "\tstr1=str1.upper()\n",
    "\t\n",
    "\tif len(str1)>len(str0):\n",
    "\t    buf_str=str0\n",
    "\t    str0=str1\n",
    "\t    str1=buf_str\n",
    " \n",
    "\tif len(str1)==1 and len(str0)==1:\n",
    "\t\tif str1!=str0:\n",
    "\t\t\tdisp_dct[i]=\"NO LUCK\"\n",
    "\t\telse:\n",
    "\t\t\tdisp_dct[i]=\"YES\"\n",
    "\telse:\n",
    "\t\tfor j in str0:\n",
    "\t\t\tif j.isalpha()!=0:\n",
    "\t\t\t\tcnt0 = str0.count(j)\n",
    "\t\t\t\tcnt1 = str1.count(j)\n",
    "\t\t\t\tif cnt0==cnt1 and flag==0:\n",
    "\t\t\t\t\tstr0=''.join(str0.split(j))\n",
    "\t\t\t\t\tstr1=''.join(str1.split(j))\n",
    "\t\t\t\telif (cnt0-cnt1)%2==0 or (cnt1-cnt0)%2==0 or (((cnt0-cnt1)%2!=0 or (cnt1-cnt0)&2!=0) and chng_flg==0):\n",
    "\t\t\t\t\tflag=1\n",
    "\t\t\t\t\tif cnt1-cnt0==1 or cnt0-cnt1==1:\n",
    "\t\t\t\t\t\tchng_flg=1\n",
    "\t\t\t\t\tif (cnt0-cnt1)<0:\n",
    "\t\t\t\t\t\tdiff_dict[j]=(cnt0-cnt1)*(-1)\n",
    "\t\t\t\t\telse:\n",
    "\t\t\t\t\t\tdiff_dict[j]=(cnt0-cnt1)\n",
    "\t\t\t\telse:\n",
    "\t\t\t\t\tflag=-1\n",
    "\t\t\t\t\tbreak\n",
    "\t\t\telse:\n",
    "\t\t\t\talpha_cnt=alpha_cnt+1\n",
    "\t\n",
    "\t\n",
    "\t\tif flag==0:\n",
    "\t\t\tdisp_dct[i]=\"YES\"\n",
    "\t\telif flag==1:\n",
    "\t\t\tstr_p=[]\n",
    "\t\t\tfor k in diff_dict:\n",
    "\t\t\t\tif diff_dict[k]%2==0:\n",
    "\t\t\t\t\tstr_p.append(str(k*(int(diff_dict[k]/2))))\n",
    "\t\t\t\t\tstr_p.sort()\n",
    "\t\t\t\telse:\n",
    "\t\t\t\t\tstr_p.append(str(k*(int((diff_dict[k]-1)/2))))\n",
    "\t\t\t\t\tstr_p.sort()\t\t\t\t\n",
    "\t\t\t\t\ts_c=k\n",
    "\t\t\tstr_p=''.join(str_p)\n",
    "\t\t\tstr_p=str_p+s_c+str_p[-1::-1]\n",
    "\t\t\tdisp_dct[i]=str(str_p.lower())\n",
    "\t\telif flag==-1:\n",
    "\t\t\tdisp_dct[i]=\"NO LUCK\"\n",
    "\t\n",
    "for i in disp_dct:\n",
    "\tprint(disp_dct[i])"
   ]
  },
  {
   "cell_type": "code",
   "execution_count": 3,
   "metadata": {},
   "outputs": [
    {
     "name": "stdout",
     "output_type": "stream",
     "text": [
      "b'Hai raja hello my lover'\n"
     ]
    }
   ],
   "source": [
    "r=\"Hai raja hello my lover\"\n",
    "m=r.encode()\n",
    "print(m)"
   ]
  },
  {
   "cell_type": "code",
   "execution_count": null,
   "metadata": {},
   "outputs": [],
   "source": []
  },
  {
   "cell_type": "code",
   "execution_count": null,
   "metadata": {},
   "outputs": [],
   "source": []
  },
  {
   "cell_type": "code",
   "execution_count": null,
   "metadata": {},
   "outputs": [],
   "source": []
  }
 ],
 "metadata": {
  "kernelspec": {
   "display_name": "Python 3",
   "language": "python",
   "name": "python3"
  },
  "language_info": {
   "codemirror_mode": {
    "name": "ipython",
    "version": 3
   },
   "file_extension": ".py",
   "mimetype": "text/x-python",
   "name": "python",
   "nbconvert_exporter": "python",
   "pygments_lexer": "ipython3",
   "version": "3.7.3"
  }
 },
 "nbformat": 4,
 "nbformat_minor": 2
}
