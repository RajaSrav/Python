{
 "cells": [
  {
   "cell_type": "code",
   "execution_count": 1,
   "metadata": {},
   "outputs": [
    {
     "name": "stdout",
     "output_type": "stream",
     "text": [
      "1\n",
      "hai!\n",
      "ibj\"\n"
     ]
    }
   ],
   "source": [
    "a=int(input())\n",
    "for i in range(a):\n",
    "    data = input()\n",
    "    x=\"\".join(chr(ord(char) + 1) for char in data)\n",
    "    z=x.replace(\"!\", \" \")\n",
    "    print(z)\n",
    "\n",
    "#     print(\"\".join(chr(ord(char) + 1) if char != 'z' else 'a' for char in data))\n",
    "    \n",
    "    \n",
    "    "
   ]
  },
  {
   "cell_type": "code",
   "execution_count": 4,
   "metadata": {},
   "outputs": [
    {
     "data": {
      "text/plain": [
       "97"
      ]
     },
     "execution_count": 4,
     "metadata": {},
     "output_type": "execute_result"
    }
   ],
   "source": [
    "ord(\"a\")"
   ]
  },
  {
   "cell_type": "markdown",
   "metadata": {},
   "source": [
    "* 2\n",
    "* -5 9 8 -10 -78 -100 10"
   ]
  },
  {
   "cell_type": "code",
   "execution_count": 7,
   "metadata": {},
   "outputs": [
    {
     "name": "stdout",
     "output_type": "stream",
     "text": [
      "1\n",
      "-5 9 8 -10 -78 -100 10\n",
      "166\n"
     ]
    }
   ],
   "source": [
    "n = int(input())\n",
    "for i in range(n):\n",
    "    s = 0\n",
    "    l = input().split()\n",
    "    for j in l:\n",
    "        s += (int(j)*-1)\n",
    "    print(s)"
   ]
  },
  {
   "cell_type": "code",
   "execution_count": null,
   "metadata": {},
   "outputs": [],
   "source": [
    "n = int(input())\n",
    "for i in range(n):\n",
    "    num = input()\n",
    "    l = []\n",
    "    for j in num:\n",
    "        k = int(j)\n",
    "        if k not in l:\n",
    "            l.append(k)\n",
    "    if len(l) == 10:\n",
    "        print(True)\n",
    "    else:\n",
    "        print(False)"
   ]
  },
  {
   "cell_type": "code",
   "execution_count": null,
   "metadata": {},
   "outputs": [
    {
     "name": "stdout",
     "output_type": "stream",
     "text": [
      "12345678901234567\n",
      "12345678\n",
      "False\n",
      "12345678923456789\n",
      "False\n",
      "9876543345678987654\n",
      "False\n",
      "64646464646\n",
      "False\n",
      "5\n",
      "False\n",
      "4\n",
      "False\n",
      "4\n",
      "False\n",
      "\n",
      "False\n",
      "4\n",
      "False\n",
      "4\n",
      "False\n"
     ]
    }
   ],
   "source": [
    "n = int(input())\n",
    "for i in range(n):\n",
    "    num = input()\n",
    "    num = set(num)\n",
    "    if len(num) == 10:\n",
    "        print(True)\n",
    "    else:\n",
    "        print(False)"
   ]
  },
  {
   "cell_type": "code",
   "execution_count": 10,
   "metadata": {},
   "outputs": [
    {
     "name": "stdout",
     "output_type": "stream",
     "text": [
      "1\n",
      "Hai How\n",
      "Ibj Ipx\n"
     ]
    }
   ],
   "source": [
    "n = int(input())\n",
    "for i in range(n):\n",
    "    s = input()\n",
    "    line = \"\"\n",
    "    for j in s:\n",
    "        if (ord(j) < ord('z') and ord(j)>=ord('a') ) or (ord(j) < ord('Z') and ord(j)>=ord('A')):\n",
    "            line+=chr(ord(j)+1)\n",
    "        else:\n",
    "            line+=j\n",
    "print(line)"
   ]
  },
  {
   "cell_type": "code",
   "execution_count": 4,
   "metadata": {},
   "outputs": [
    {
     "name": "stdout",
     "output_type": "stream",
     "text": [
      "2\n",
      "ghg\n",
      "hih\n",
      "kgjh jhgu-\n",
      "lhki kihv-\n"
     ]
    }
   ],
   "source": [
    "n = int(input())\n",
    "for i in range(n):\n",
    "    s = input()\n",
    "    line = \"\"\n",
    "    for j in s:\n",
    "        if j.isalpha():\n",
    "            line+=chr(ord(j)+1)\n",
    "        else:\n",
    "            line+=j\n",
    "    print(line)"
   ]
  },
  {
   "cell_type": "code",
   "execution_count": null,
   "metadata": {},
   "outputs": [],
   "source": []
  }
 ],
 "metadata": {
  "kernelspec": {
   "display_name": "Python 3",
   "language": "python",
   "name": "python3"
  },
  "language_info": {
   "codemirror_mode": {
    "name": "ipython",
    "version": 3
   },
   "file_extension": ".py",
   "mimetype": "text/x-python",
   "name": "python",
   "nbconvert_exporter": "python",
   "pygments_lexer": "ipython3",
   "version": "3.7.3"
  }
 },
 "nbformat": 4,
 "nbformat_minor": 2
}
